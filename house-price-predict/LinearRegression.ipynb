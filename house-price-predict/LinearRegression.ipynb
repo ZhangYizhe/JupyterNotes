{
 "cells": [
  {
   "cell_type": "markdown",
   "id": "42a23832-c655-46cd-9882-4abc960a40b1",
   "metadata": {},
   "source": [
    "# This project aims to predict the price of House by hand"
   ]
  },
  {
   "cell_type": "markdown",
   "id": "94fd70b1-a1b9-4c11-8f9e-6779dd8e3f04",
   "metadata": {},
   "source": [
    "## Loading the data"
   ]
  },
  {
   "cell_type": "code",
   "execution_count": 560,
   "id": "caeed2cb-6341-4fe0-912d-b785f1cb8ccd",
   "metadata": {},
   "outputs": [],
   "source": [
    "import pandas as pd\n",
    "import numpy as np\n",
    "\n",
    "train_path = 'train.csv'\n",
    "test_path = 'test.csv'\n",
    "\n",
    "train_data = pd.read_csv(train_path, index_col='Id')\n",
    "test_data = pd.read_csv(test_path, index_col='Id')\n",
    "\n",
    "X_train = train_data.sample(frac = 0.8, random_state = 0)\n",
    "X_dev = train_data.drop(X_train.index)\n",
    "\n",
    "y_train = X_train.pop('SalePrice').to_frame()\n",
    "y_dev = X_dev.pop('SalePrice').to_frame()"
   ]
  },
  {
   "cell_type": "markdown",
   "id": "26b20c8e-95ad-4a92-9c46-cfe048ba6797",
   "metadata": {},
   "source": [
    "## Drop all object columns"
   ]
  },
  {
   "cell_type": "code",
   "execution_count": 561,
   "id": "e7b4d878-a0f1-4ab8-b5f2-6eda8349aaab",
   "metadata": {},
   "outputs": [],
   "source": [
    "X_train_object_columns = [col for col in X_train.columns if X_train[col].dtype == 'object']\n",
    "X_train = X_train.drop(X_train_object_columns, axis=1)\n",
    "X_dev = X_dev.drop(X_train_object_columns, axis=1)"
   ]
  },
  {
   "cell_type": "markdown",
   "id": "96e35ef2-04b1-4378-aab6-6b1150b46d0c",
   "metadata": {},
   "source": [
    "## Process NaN data"
   ]
  },
  {
   "cell_type": "code",
   "execution_count": 562,
   "id": "82705499-3c1b-4b31-b85d-84e63c6a466f",
   "metadata": {},
   "outputs": [],
   "source": [
    "# drop year\n",
    "X_train = X_train.drop('GarageYrBlt', axis = 1)\n",
    "X_dev = X_dev.drop('GarageYrBlt', axis = 1)\n",
    "\n",
    "# Get names of columns with missing values\n",
    "cols_with_missing = [col for col in X_train.columns if X_train[col].isnull().any()]\n",
    "\n",
    "for col in cols_with_missing:\n",
    "    values = [value for value in X_train[col].values if not np.isnan(value)]\n",
    "    avarge = sum(values) / len(values)\n",
    "    X_train.loc[X_train.loc[:, col].isnull(), col] = avarge\n",
    "    X_dev.loc[X_dev.loc[:, col].isnull(), col] = avarge"
   ]
  },
  {
   "cell_type": "markdown",
   "id": "434cff6e-36cd-4dba-9615-68e4822b485f",
   "metadata": {},
   "source": [
    "## Normalization"
   ]
  },
  {
   "cell_type": "code",
   "execution_count": 563,
   "id": "1c084828-f4c4-42d7-8854-df36a8ba7841",
   "metadata": {},
   "outputs": [],
   "source": [
    "# X_train.head()\n",
    "def normalization(X):\n",
    "    _X = X.copy()\n",
    "    for column in _X.columns:\n",
    "        mean = _X[column].mean()\n",
    "        _max = max(_X[column])\n",
    "        _min = min(_X[column])\n",
    "        if _max - _min != 0:\n",
    "            _X.loc[:, column] = (_X[column] - mean) / (_max - _min)\n",
    "    return _X\n",
    "        \n",
    "#debug\n",
    "# normalization(X_train)"
   ]
  },
  {
   "cell_type": "code",
   "execution_count": 564,
   "id": "ad0b4c65-c856-4b4f-b10b-1883ec81076b",
   "metadata": {},
   "outputs": [],
   "source": [
    "X_train = normalization(X_train)\n",
    "X_dev = normalization(X_dev)\n",
    "\n",
    "X_train.insert(0, \"x0\", 1)\n",
    "X_dev.insert(0, \"x0\", 1)"
   ]
  },
  {
   "cell_type": "markdown",
   "id": "a132ce71-cf6e-4489-8e68-ac1e62b3d61b",
   "metadata": {},
   "source": [
    "## Using Linear Regression to solve the problem"
   ]
  },
  {
   "cell_type": "code",
   "execution_count": 565,
   "id": "202715e8-fd91-4215-93a2-53e9d4b2c408",
   "metadata": {},
   "outputs": [],
   "source": [
    "n = X_train.shape[1]\n",
    "theta = pd.DataFrame(np.random.rand(n))\n",
    "alpha = 1e-2\n",
    "epochs = 100"
   ]
  },
  {
   "cell_type": "markdown",
   "id": "8e51723c-c4d3-41ad-807a-30c88c8f0ba2",
   "metadata": {},
   "source": [
    "## Hypothesis formula"
   ]
  },
  {
   "cell_type": "code",
   "execution_count": 566,
   "id": "de5c119c-8ef8-403d-8b8d-4f82b8f54f64",
   "metadata": {},
   "outputs": [],
   "source": [
    "# Hypothesis formula\n",
    "# X = m * n\n",
    "# theta = n * 1\n",
    "def hypothesisFormula(X, theta):\n",
    "    _X = X.copy()\n",
    "    _X = _X[:].values\n",
    "    return _X.dot(theta)\n",
    "\n",
    "# debug\n",
    "# debug_X = pd.DataFrame([[1, 2], [3, 4], [5, 6], [7, 8]])\n",
    "# debug_theta = pd.DataFrame([2, 3])\n",
    "# hypothesisFormula(debug_X, debug_theta)"
   ]
  },
  {
   "cell_type": "markdown",
   "id": "2e2424aa-3ea1-426e-b7d4-3553e0ba8d27",
   "metadata": {},
   "source": [
    "## Cost Function"
   ]
  },
  {
   "cell_type": "code",
   "execution_count": 567,
   "id": "c4a878a1-85b6-4057-84fa-4195926f85b8",
   "metadata": {},
   "outputs": [],
   "source": [
    "# Cost function\n",
    "def costFunction(X, y, theta):\n",
    "    m = X.shape[0]\n",
    "    predictX = hypothesisFormula(X, theta)\n",
    "    return (1 / (2 * m)) * (((predictX - y).values ** 2).sum())\n",
    "\n",
    "# debug\n",
    "# costFunction(X_dev, y_dev, theta)"
   ]
  },
  {
   "cell_type": "markdown",
   "id": "903c9c1f-8351-4dee-850a-e0603facd812",
   "metadata": {},
   "source": [
    "## Gradient descent"
   ]
  },
  {
   "cell_type": "code",
   "execution_count": 568,
   "id": "a9b84c42-8edd-449e-85b6-a4f81ed5a4ba",
   "metadata": {},
   "outputs": [],
   "source": [
    "def gradientDescent(X, y, theta, alpha):\n",
    "    _X = X.copy()\n",
    "    m = _X.shape[0]\n",
    "    H = hypothesisFormula(_X, theta)\n",
    "    _X.loc[:, 'x0'] = 0\n",
    "    newTheta = theta - (alpha * (1 / m) * (X.T.dot((H - y).values))).values\n",
    "    return newTheta\n",
    "\n",
    "# debug\n",
    "# gd = gradientDescent(X_dev, y_dev, theta, alpha)\n",
    "# print(gd)"
   ]
  },
  {
   "cell_type": "markdown",
   "id": "7cc18dc8-69e3-4581-af62-d76398100cae",
   "metadata": {},
   "source": [
    "## Start training"
   ]
  },
  {
   "cell_type": "code",
   "execution_count": 569,
   "id": "1b9e538c-55d4-4f17-9433-31f3f0a03e3b",
   "metadata": {},
   "outputs": [],
   "source": [
    "theta = pd.DataFrame(np.random.rand(n))\n",
    "\n",
    "gradientDescent(X_train, y_train, theta, alpha)\n",
    "\n",
    "train_cfs = []\n",
    "dev_cfs = []\n",
    "\n",
    "for epoch in range(10000):\n",
    "    train_cfs.append(costFunction(X_train, y_train, theta))\n",
    "    dev_cfs.append(costFunction(X_dev, y_dev, theta))\n",
    "    theta = gradientDescent(X_train, y_train, theta, alpha)"
   ]
  },
  {
   "cell_type": "markdown",
   "id": "17cd6b02-cb59-4b52-ad68-37a7354332f0",
   "metadata": {},
   "source": [
    "## Plot Cost function"
   ]
  },
  {
   "cell_type": "code",
   "execution_count": 574,
   "id": "6d540443-11de-4fac-ba87-39446c2dd264",
   "metadata": {},
   "outputs": [
    {
     "data": {
      "image/png": "[encoded data removed]",
      "text/plain": [
       "<Figure size 432x288 with 1 Axes>"
      ]
     },
     "metadata": {
      "needs_background": "light"
     },
     "output_type": "display_data"
    }
   ],
   "source": [
    "import matplotlib.pyplot as plt\n",
    "\n",
    "plt.plot(train_cfs[200:], label=\"Train Data\")\n",
    "plt.plot(dev_cfs[200:], label=\"Validation Data\")\n",
    "plt.ylabel('cost')\n",
    "plt.xlabel('epochs')\n",
    "plt.legend()\n",
    "plt.show()"
   ]
  }
 ],
 "metadata": {
  "kernelspec": {
   "display_name": "Python 3",
   "language": "python",
   "name": "python3"
  },
  "language_info": {
   "codemirror_mode": {
    "name": "ipython",
    "version": 3
   },
   "file_extension": ".py",
   "mimetype": "text/x-python",
   "name": "python",
   "nbconvert_exporter": "python",
   "pygments_lexer": "ipython3",
   "version": "3.9.4"
  }
 },
 "nbformat": 4,
 "nbformat_minor": 5
}
