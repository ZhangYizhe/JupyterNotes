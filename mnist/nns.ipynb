{
 "cells": [
  {
   "cell_type": "markdown",
   "id": "b874ceb4-288a-4679-a70f-0e0e2b040ab9",
   "metadata": {},
   "source": [
    "# MNIST NNs"
   ]
  },
  {
   "cell_type": "markdown",
   "id": "0ede8c61-fc62-44bd-9c20-ced2ec1a96a6",
   "metadata": {},
   "source": [
    "## Load Dataset"
   ]
  },
  {
   "cell_type": "code",
   "execution_count": 1,
   "id": "7e977a86-9fcd-4d91-8c37-c183c81ec079",
   "metadata": {},
   "outputs": [],
   "source": [
    "import numpy as np\n",
    "import pandas as pd\n",
    "import tensorflow as tf\n",
    "\n",
    "np.set_printoptions(suppress=True)\n",
    "\n",
    "(X_train, y_train), (X_test, y_test) = tf.keras.datasets.mnist.load_data()\n",
    "assert X_train.shape == (60000, 28, 28)\n",
    "assert X_test.shape == (10000, 28, 28)\n",
    "assert y_train.shape == (60000,)\n",
    "assert y_test.shape == (10000,)\n",
    "\n",
    "# normalisation\n",
    "X_train = X_train / 255\n",
    "X_test = X_test / 255\n",
    "\n",
    "def createY(y):\n",
    "    Y = np.zeros(10)\n",
    "    Y[y] = 1\n",
    "    return Y\n",
    "\n",
    "# reshape\n",
    "X_train = X_train.reshape(60000, 28 ** 2)\n",
    "X_test = X_test.reshape(10000, 28 ** 2)\n",
    "y_train = np.array([createY(y) for y in y_train])\n",
    "y_test =np.array([createY(y) for y in y_test])\n",
    "\n",
    "# tensorflow\n",
    "# X_train = tf.Variable(X_train, dtype=tf.float64)\n",
    "# X_test = tf.Variable(X_test, dtype=tf.float64)\n",
    "# y_train = tf.Variable(y_train, dtype=tf.float64)\n",
    "# y_test = tf.Variable(y_test, dtype=tf.float64)"
   ]
  },
  {
   "cell_type": "markdown",
   "id": "445d583a-26e8-4704-b10e-5dd9348cb139",
   "metadata": {},
   "source": [
    "## Initialize HyperParameters"
   ]
  },
  {
   "cell_type": "code",
   "execution_count": 72,
   "id": "2d91b57c-1b72-43ea-9b5b-28b1a5ee8aee",
   "metadata": {},
   "outputs": [],
   "source": [
    "def inistial_parameters(n, dims):\n",
    "    \n",
    "    W = {}\n",
    "    B = {}\n",
    "    \n",
    "    for i in range(len(dims)):\n",
    "        dim = dims[i]\n",
    "        if i == 0:\n",
    "            w =  np.random.randn(n, dim) * 1e-2\n",
    "            W['W' + str(i + 1)] = w\n",
    "            b = np.random.randn(1) * 1e-2\n",
    "            B['b' + str(i + 1)] = b\n",
    "        else:\n",
    "            w = np.random.randn(dims[i-1], dim) * 1e-2\n",
    "            W['W' + str(i + 1)] = w\n",
    "            b = np.random.randn(1) * 1e-2\n",
    "            B['b' + str(i + 1)] = b\n",
    "            \n",
    "    return {\n",
    "        'W' : W,\n",
    "        'b' : B\n",
    "    }\n",
    "\n",
    "#debug\n",
    "# test_n = X_train.shape[1]\n",
    "# test_dims = [100, 100, 100, 200]\n",
    "# test_parameters = inistial_parameters(n, dims)\n",
    "# test_parameters['b']"
   ]
  },
  {
   "cell_type": "markdown",
   "id": "a28880cf-5f4b-4889-8195-44d0f6987058",
   "metadata": {},
   "source": [
    "## Linear Regression"
   ]
  },
  {
   "cell_type": "code",
   "execution_count": 73,
   "id": "6650e2dd-1d81-4839-b4bd-783a23aee747",
   "metadata": {},
   "outputs": [],
   "source": [
    "def linear(X, W, b):\n",
    "    return np.dot(X, W) + b\n",
    "\n",
    "# debug\n",
    "# linear(np.random.randn(4, 3), tf.Variable(np.random.randn(3, 1), dtype=tf.float32), 1)"
   ]
  },
  {
   "cell_type": "markdown",
   "id": "e19c2637-25c6-4608-91b0-63a9cdb5b619",
   "metadata": {},
   "source": [
    "## ReLU"
   ]
  },
  {
   "cell_type": "code",
   "execution_count": 74,
   "id": "746086e2-314c-47d8-bd40-60009bc58dfe",
   "metadata": {},
   "outputs": [],
   "source": [
    "def relu(X):\n",
    "    return np.maximum(X, 0)"
   ]
  },
  {
   "cell_type": "markdown",
   "id": "adfa45d1-60c2-47c3-bfdd-c8f120542c2d",
   "metadata": {},
   "source": [
    "## Sigmoid"
   ]
  },
  {
   "cell_type": "code",
   "execution_count": 75,
   "id": "1c468f71-4b60-4fa8-966a-f2736a08376d",
   "metadata": {},
   "outputs": [],
   "source": [
    "def sigmoid(X):\n",
    "    return 1 / (1 + np.exp(-X))"
   ]
  },
  {
   "cell_type": "markdown",
   "id": "15398deb-8c9e-4ea3-83d4-cff398919a48",
   "metadata": {},
   "source": [
    "## Softmax"
   ]
  },
  {
   "cell_type": "code",
   "execution_count": 76,
   "id": "85c61c14-f069-4ba7-b310-961dc93f4538",
   "metadata": {},
   "outputs": [],
   "source": [
    "def softmax(X):\n",
    "    return (np.exp(X)) / (np.sum(np.exp(X)))"
   ]
  },
  {
   "cell_type": "markdown",
   "id": "6e608165-e5f9-4f43-b199-768fb4a6701d",
   "metadata": {},
   "source": [
    "## Activation function"
   ]
  },
  {
   "cell_type": "code",
   "execution_count": 77,
   "id": "257367f4-8e6a-4dd3-9896-58d7ac802b21",
   "metadata": {},
   "outputs": [],
   "source": [
    "def activation(A_prev, W, b, active):\n",
    "    \"\"\"\n",
    "    activation - sigmoid/relu/softmax\n",
    "    \"\"\"\n",
    "    \n",
    "    if active == 'sigmoid':\n",
    "        Z = linear(A_prev, W, b)\n",
    "        A = sigmoid(Z)\n",
    "    elif active == 'relu':\n",
    "        Z = linear(A_prev, W, b)\n",
    "        A = relu(Z)\n",
    "    elif active == 'softmax':\n",
    "        Z = linear(A_prev, W, b)\n",
    "        A = softmax(Z)\n",
    "        \n",
    "    return A"
   ]
  },
  {
   "cell_type": "markdown",
   "id": "788b4380-7fcc-43d3-b639-d72269cfa661",
   "metadata": {},
   "source": [
    "## L model forward"
   ]
  },
  {
   "cell_type": "code",
   "execution_count": 78,
   "id": "056223f1-819c-48ee-9657-6a705b20ab5e",
   "metadata": {},
   "outputs": [],
   "source": [
    "def L_model_forward(X, W, b):\n",
    "    A = X\n",
    "    L = len(b)\n",
    "    caches = {}\n",
    "    \n",
    "    for i in range(1, L):\n",
    "        A_prev = A\n",
    "        \n",
    "        A = activation(A_prev, W['W' + str(i)], b['b' + str(i)], 'relu')\n",
    "        caches['A' + str(i)] = A\n",
    "        \n",
    "    AL = activation(A, W['W' + str(L)], b['b' + str(L)], 'softmax')\n",
    "    \n",
    "    return (AL, caches)\n",
    "\n",
    "# debug\n",
    "# test = L_model_forward(X_test, W, b)\n",
    "# print(test[0])"
   ]
  },
  {
   "cell_type": "markdown",
   "id": "a81dad1a-47f9-4219-bb29-4496eb48dee8",
   "metadata": {},
   "source": [
    "## Cross entropy error function for softmax"
   ]
  },
  {
   "cell_type": "code",
   "execution_count": 79,
   "id": "9ad51bc5-8376-4d65-a698-fe8dac8810b3",
   "metadata": {},
   "outputs": [],
   "source": [
    "def crossEntropyError(AL, y):\n",
    "    m = AL.shape[0]\n",
    "    cost = - (1 / m) * (np.sum(y * np.log(AL), axis=0))\n",
    "    return cost"
   ]
  },
  {
   "cell_type": "markdown",
   "id": "09ce85d3-b6a7-4445-8411-913a44e6fdcc",
   "metadata": {},
   "source": [
    "## Softmax derivative"
   ]
  },
  {
   "cell_type": "code",
   "execution_count": 80,
   "id": "d303f5df-8b36-4a95-b961-a9c6159748ce",
   "metadata": {},
   "outputs": [],
   "source": [
    "def softmax_derivative():\n",
    "    pass"
   ]
  },
  {
   "cell_type": "markdown",
   "id": "2cbbfe09-ec6d-448c-b619-477a271c3fe0",
   "metadata": {},
   "source": [
    "## ReLU derivative"
   ]
  },
  {
   "cell_type": "code",
   "execution_count": 157,
   "id": "4297ef3c-1388-4f1c-b4f8-f24736eca788",
   "metadata": {},
   "outputs": [],
   "source": [
    "def relu_derivative(dA):\n",
    "    _dA = dA.copy()\n",
    "    _dA[_dA < 0] = 0\n",
    "    _dA[_dA > 0] = 1\n",
    "    return _dA"
   ]
  },
  {
   "cell_type": "markdown",
   "id": "3bf423c4-8f11-4276-bf40-6254ca47f1b5",
   "metadata": {},
   "source": [
    "## Linear derivative\n",
    "\n",
    "$$g'(u) = g(u) .* (1 - g(u))$$"
   ]
  },
  {
   "cell_type": "code",
   "execution_count": 82,
   "id": "f75ff873-d75f-4bfa-bf09-a16fd41eb9c2",
   "metadata": {},
   "outputs": [],
   "source": [
    "def linear_derivative(Z):\n",
    "    g_derivative = Z * (1 - Z)\n",
    "    return g_derivative"
   ]
  },
  {
   "cell_type": "markdown",
   "id": "6f336cee-eea6-42a4-b08d-7f94f85e1374",
   "metadata": {},
   "source": [
    "## Initial parameters"
   ]
  },
  {
   "cell_type": "code",
   "execution_count": 270,
   "id": "bad7876b-b164-43df-90bf-b1daacd5992a",
   "metadata": {},
   "outputs": [],
   "source": [
    "n = X_train.shape[1]\n",
    "dims = [100, 10]\n",
    "parameters = inistial_parameters(n, dims)\n",
    "W = parameters['W']\n",
    "b = parameters['b']\n",
    "alpha = 1e-4"
   ]
  },
  {
   "cell_type": "code",
   "execution_count": 271,
   "id": "b8ba0968-8286-4721-ab55-352589a16957",
   "metadata": {},
   "outputs": [],
   "source": [
    "single_X = X_test[0]\n",
    "single_y = y_test[0]\n",
    "\n",
    "single_X = single_X.reshape(1, X_test.shape[1])\n",
    "\n",
    "m = single_X.shape[0]\n",
    "\n",
    "costs = []\n",
    "\n",
    "for i in range(100):\n",
    "    AL, caches = L_model_forward(single_X, W, b)\n",
    "\n",
    "    J_L = crossEntropyError(AL, single_y)\n",
    "\n",
    "    W_L = W['W' + str(2)]\n",
    "\n",
    "    softmax_derivative = AL - single_y\n",
    "    \n",
    "    costs.append(np.sum(single_y - AL) ** 2)\n",
    "\n",
    "    dW_L = (1 / m) * np.dot(caches['A1'].T, softmax_derivative)\n",
    "\n",
    "    db_L = (1 / m) * np.sum(softmax_derivative, axis=1, keepdims=True)\n",
    "\n",
    "    _relu_derivative = relu_derivative(caches['A1'])\n",
    "\n",
    "    dZ_1 = np.dot(softmax_derivative, W_L.T) * _relu_derivative\n",
    "\n",
    "    dW_1 = (1 / m) * np.dot(single_X.T, dZ_1)\n",
    "\n",
    "    db_1 = (1 / m) * np.sum(dZ_1, axis=1, keepdims=True)\n",
    "\n",
    "    W['W1'] = W['W1'] - alpha * dW_1\n",
    "    b['b1'] = b['b1'] - alpha * db_1\n",
    "    W['W2'] = W['W2'] - alpha * dW_L\n",
    "    b['b2'] = b['b2'] - alpha * db_L\n",
    "    "
   ]
  },
  {
   "cell_type": "code",
   "execution_count": 272,
   "id": "45e7cced-c51e-427a-95d8-6fa44600fb9c",
   "metadata": {},
   "outputs": [
    {
     "data": {
      "image/png": "[encoded data removed]",
      "text/plain": [
       "<Figure size 432x288 with 1 Axes>"
      ]
     },
     "metadata": {
      "needs_background": "light"
     },
     "output_type": "display_data"
    }
   ],
   "source": [
    "import matplotlib.pyplot as plt\n",
    "\n",
    "plt.plot(costs, label=\"Train Data\")\n",
    "# plt.plot(J_devs[1000:], label=\"Validation Data\")\n",
    "plt.ylabel('cost')\n",
    "plt.xlabel('epochs')\n",
    "plt.legend()\n",
    "plt.show()\n",
    "\n"
   ]
  },
  {
   "cell_type": "markdown",
   "id": "16f06162-801c-43b6-b2e8-52f406edeed3",
   "metadata": {},
   "source": [
    "## Backward"
   ]
  },
  {
   "cell_type": "code",
   "execution_count": 20,
   "id": "9e1b1455-3ba9-45fe-ac85-5fb93a53ad1f",
   "metadata": {},
   "outputs": [
    {
     "name": "stdout",
     "output_type": "stream",
     "text": [
      "[-711595.31265493 -689160.75306898 -708842.49554957 -687789.60029629\n",
      " -700757.6536571  -693846.85316414 -702292.82172862 -696198.75393028\n",
      " -707889.85815196 -700211.83504907]\n"
     ]
    }
   ],
   "source": [
    "def backward(AL, Y):\n",
    "    dAL = - (np.divide(Y, AL) - np.divide(1 - Y, 1 - AL))\n",
    "    print(dAL[0])\n",
    "    \n",
    "backward(AL, y_test)"
   ]
  },
  {
   "cell_type": "code",
   "execution_count": null,
   "id": "0fecdca3-f39b-47f7-b16e-d2d43548e358",
   "metadata": {},
   "outputs": [],
   "source": []
  }
 ],
 "metadata": {
  "kernelspec": {
   "display_name": "Python 3",
   "language": "python",
   "name": "python3"
  },
  "language_info": {
   "codemirror_mode": {
    "name": "ipython",
    "version": 3
   },
   "file_extension": ".py",
   "mimetype": "text/x-python",
   "name": "python",
   "nbconvert_exporter": "python",
   "pygments_lexer": "ipython3",
   "version": "3.9.4"
  }
 },
 "nbformat": 4,
 "nbformat_minor": 5
}
