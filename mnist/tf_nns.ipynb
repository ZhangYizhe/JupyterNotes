{
 "cells": [
  {
   "cell_type": "markdown",
   "id": "e4724260-1f96-461f-af85-e9f9d5e6c507",
   "metadata": {},
   "source": [
    "# TF NNs"
   ]
  },
  {
   "cell_type": "code",
   "execution_count": 83,
   "id": "6469d51f-dfdc-4b46-95b9-c184eb51546e",
   "metadata": {},
   "outputs": [],
   "source": [
    "import numpy as np\n",
    "import pandas as pd\n",
    "import tensorflow as tf\n",
    "\n",
    "np.set_printoptions(suppress=True)\n",
    "\n",
    "(X_train, y_train), (X_test, y_test) = tf.keras.datasets.mnist.load_data()\n",
    "assert X_train.shape == (60000, 28, 28)\n",
    "assert X_test.shape == (10000, 28, 28)\n",
    "assert y_train.shape == (60000,)\n",
    "assert y_test.shape == (10000,)\n",
    "\n",
    "# normalisation\n",
    "X_train = X_train / 255\n",
    "X_test = X_test / 255\n",
    "\n",
    "def createY(y):\n",
    "    Y = np.zeros(10)\n",
    "    Y[y] = 1\n",
    "    return Y\n",
    "\n",
    "# reshape\n",
    "X_train = X_train.reshape(60000, 28 ** 2)\n",
    "X_test = X_test.reshape(10000, 28 ** 2)\n",
    "y_train = np.array([createY(y) for y in y_train])\n",
    "y_test =np.array([createY(y) for y in y_test])"
   ]
  },
  {
   "cell_type": "code",
   "execution_count": 84,
   "id": "12eaa231-bfa3-4c53-b0d2-1c586addbc91",
   "metadata": {},
   "outputs": [],
   "source": [
    "from tensorflow.keras.layers import Dense, Softmax\n",
    "from tensorflow.keras import Model\n",
    "\n",
    "# Use tf.data to batch and shuffle the dataset:\n",
    "train_ds = tf.data.Dataset.from_tensor_slices((X_train, y_train)).shuffle(10000).batch(32)\n",
    "\n",
    "test_ds = tf.data.Dataset.from_tensor_slices((X_test, y_test)).batch(32)\n"
   ]
  },
  {
   "cell_type": "code",
   "execution_count": 90,
   "id": "36555eae-7287-46c2-857a-c32e89bb5be2",
   "metadata": {},
   "outputs": [
    {
     "name": "stdout",
     "output_type": "stream",
     "text": [
      "Epoch 1/6\n",
      "1875/1875 [==============================] - 3s 1ms/step - loss: 0.2050 - categorical_accuracy: 0.9393 - val_loss: 0.1059 - val_categorical_accuracy: 0.9675\n",
      "Epoch 2/6\n",
      "1875/1875 [==============================] - 3s 1ms/step - loss: 0.0876 - categorical_accuracy: 0.9720 - val_loss: 0.0867 - val_categorical_accuracy: 0.9727\n",
      "Epoch 3/6\n",
      "1875/1875 [==============================] - 3s 1ms/step - loss: 0.0602 - categorical_accuracy: 0.9814 - val_loss: 0.0896 - val_categorical_accuracy: 0.9740\n",
      "Epoch 4/6\n",
      "1875/1875 [==============================] - 3s 1ms/step - loss: 0.0443 - categorical_accuracy: 0.9854 - val_loss: 0.0810 - val_categorical_accuracy: 0.9774\n",
      "Epoch 5/6\n",
      "1875/1875 [==============================] - 2s 1ms/step - loss: 0.0369 - categorical_accuracy: 0.9878 - val_loss: 0.0921 - val_categorical_accuracy: 0.9740\n",
      "Epoch 6/6\n",
      "1875/1875 [==============================] - 3s 1ms/step - loss: 0.0294 - categorical_accuracy: 0.9903 - val_loss: 0.0867 - val_categorical_accuracy: 0.9778\n"
     ]
    }
   ],
   "source": [
    "model = tf.keras.models.Sequential([\n",
    "  tf.keras.layers.Dense(200, activation='relu', input_shape=(784,)),\n",
    "  tf.keras.layers.Dense(200, activation='relu'),\n",
    "  tf.keras.layers.Dense(10, activation='softmax')\n",
    "])\n",
    "\n",
    "model.compile(\n",
    "    optimizer=tf.keras.optimizers.Adam(0.001),\n",
    "    loss=tf.keras.losses.CategoricalCrossentropy(from_logits=False),\n",
    "    metrics=[tf.keras.metrics.CategoricalAccuracy()],\n",
    ")\n",
    "\n",
    "model_history = model.fit(\n",
    "    train_ds,\n",
    "    epochs=6,\n",
    "    validation_data=test_ds,\n",
    ")"
   ]
  },
  {
   "cell_type": "code",
   "execution_count": 93,
   "id": "ce8f746f-dc8f-4639-808c-464e36179f40",
   "metadata": {},
   "outputs": [
    {
     "data": {
      "image/png": "[encoded data removed]",
      "text/plain": [
       "<Figure size 432x288 with 1 Axes>"
      ]
     },
     "metadata": {
      "needs_background": "light"
     },
     "output_type": "display_data"
    }
   ],
   "source": [
    "import matplotlib.pyplot as plt\n",
    "\n",
    "plt.plot(model_history.history['loss'], label=\"Train Data\")\n",
    "plt.plot(model_history.history['val_loss'], label=\"Validation Data\")\n",
    "plt.ylabel('cost')\n",
    "plt.xlabel('epochs')\n",
    "plt.legend()\n",
    "plt.show()"
   ]
  },
  {
   "cell_type": "code",
   "execution_count": 103,
   "id": "ea60660a-4a9f-4edf-8972-bc5240b2e9f8",
   "metadata": {},
   "outputs": [
    {
     "name": "stdout",
     "output_type": "stream",
     "text": [
      "prediction: 2\n"
     ]
    },
    {
     "data": {
      "image/png": "[encoded data removed]",
      "text/plain": [
       "<Figure size 432x288 with 1 Axes>"
      ]
     },
     "metadata": {
      "needs_background": "light"
     },
     "output_type": "display_data"
    }
   ],
   "source": [
    "index = 1\n",
    "\n",
    "image = X_test[index]\n",
    "\n",
    "haty = model.predict(image.reshape(1, 784))\n",
    "\n",
    "print('prediction: {label}'.format(label = np.argmax(haty)))\n",
    "\n",
    "plt.title('Label is {label}'.format(label=np.argmax(y_test[index])))\n",
    "plt.imshow(image.reshape((28, 28)), cmap='gray')\n",
    "plt.show()"
   ]
  },
  {
   "cell_type": "code",
   "execution_count": null,
   "id": "503e27eb-d703-4d2a-8ea0-2bb0014a98c9",
   "metadata": {},
   "outputs": [],
   "source": []
  }
 ],
 "metadata": {
  "kernelspec": {
   "display_name": "Python 3",
   "language": "python",
   "name": "python3"
  },
  "language_info": {
   "codemirror_mode": {
    "name": "ipython",
    "version": 3
   },
   "file_extension": ".py",
   "mimetype": "text/x-python",
   "name": "python",
   "nbconvert_exporter": "python",
   "pygments_lexer": "ipython3",
   "version": "3.9.4"
  }
 },
 "nbformat": 4,
 "nbformat_minor": 5
}
