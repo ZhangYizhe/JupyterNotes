{
 "cells": [
  {
   "cell_type": "markdown",
   "id": "dcc4fa9b-02f4-4276-9dec-5c538a6755f3",
   "metadata": {},
   "source": [
    "# MNIST Gradient Descent NNs"
   ]
  },
  {
   "cell_type": "markdown",
   "id": "d4279c47-67c3-4b12-bf23-cba17acd2bb6",
   "metadata": {},
   "source": [
    "## Load Data"
   ]
  },
  {
   "cell_type": "code",
   "execution_count": 87,
   "id": "2b949369-014e-4217-b001-abd9a22d74e6",
   "metadata": {},
   "outputs": [],
   "source": [
    "import numpy as np\n",
    "import pandas as pd\n",
    "import tensorflow as tf\n",
    "\n",
    "np.set_printoptions(suppress=True)\n",
    "np.seterr(divide = 'ignore') \n",
    "\n",
    "(X_train, y_train), (X_test, y_test) = tf.keras.datasets.mnist.load_data()\n",
    "assert X_train.shape == (60000, 28, 28)\n",
    "assert X_test.shape == (10000, 28, 28)\n",
    "assert y_train.shape == (60000,)\n",
    "assert y_test.shape == (10000,)\n",
    "\n",
    "# normalisation\n",
    "X_train = X_train / 255\n",
    "X_test = X_test / 255\n",
    "\n",
    "def createY(y):\n",
    "    Y = np.zeros(10)\n",
    "    Y[y] = 1\n",
    "    return Y\n",
    "\n",
    "# reshape\n",
    "X_train = X_train.reshape(60000, 28 ** 2)\n",
    "X_test = X_test.reshape(10000, 28 ** 2)\n",
    "y_train = np.array([createY(y) for y in y_train])\n",
    "y_test =np.array([createY(y) for y in y_test])\n",
    "\n",
    "# tensorflow\n",
    "X_train = tf.constant(X_train, dtype=tf.float64)\n",
    "X_test = tf.constant(X_test, dtype=tf.float64)\n",
    "y_train = tf.constant(y_train, dtype=tf.float64)\n",
    "y_test = tf.constant(y_test, dtype=tf.float64)"
   ]
  },
  {
   "cell_type": "markdown",
   "id": "10a0bcad-3b88-4f4b-9dc6-6466cd582c2c",
   "metadata": {},
   "source": [
    "## Initialize HyperParameters"
   ]
  },
  {
   "cell_type": "code",
   "execution_count": 88,
   "id": "5e852a80-bb2a-4a28-b098-4bc74d639995",
   "metadata": {},
   "outputs": [],
   "source": [
    "def inistial_parameters(n, dims):\n",
    "    \n",
    "    W = {}\n",
    "    B = {}\n",
    "    \n",
    "    for i in range(len(dims)):\n",
    "        dim = dims[i]\n",
    "        if i == 0:\n",
    "            w =  np.random.randn(n, dim) * 1e-2\n",
    "            W['W' + str(i + 1)] = tf.constant(w)\n",
    "            b = np.random.randn(1) * 1e-2\n",
    "            B['b' + str(i + 1)] = tf.constant(b)\n",
    "        else:\n",
    "            w = np.random.randn(dims[i-1], dim) * 1e-2\n",
    "            W['W' + str(i + 1)] = tf.constant(w)\n",
    "            b = np.random.randn(1) * 1e-2\n",
    "            B['b' + str(i + 1)] = tf.constant(b)\n",
    "            \n",
    "    return {\n",
    "        'W' : W,\n",
    "        'b' : B\n",
    "    }"
   ]
  },
  {
   "cell_type": "markdown",
   "id": "055801a3-ee6f-47cb-b55e-23acaeea2844",
   "metadata": {},
   "source": [
    "## Linear Regression"
   ]
  },
  {
   "cell_type": "code",
   "execution_count": 89,
   "id": "cafd6ea0-1e3a-4d0e-a1dc-4336b5749ad0",
   "metadata": {},
   "outputs": [],
   "source": [
    "def linear(X, W, b):\n",
    "    return np.dot(X, W) + b"
   ]
  },
  {
   "cell_type": "markdown",
   "id": "404e661c-d419-4943-968a-ad7c08b592fb",
   "metadata": {},
   "source": [
    "## ReLU"
   ]
  },
  {
   "cell_type": "code",
   "execution_count": 90,
   "id": "914c3811-2ef8-49ec-86aa-c66c557e3dff",
   "metadata": {},
   "outputs": [],
   "source": [
    "def relu(X):\n",
    "    return np.maximum(X, 0)"
   ]
  },
  {
   "cell_type": "markdown",
   "id": "7c6b0999-7d53-4d33-99ab-cdf1d9d93ae7",
   "metadata": {},
   "source": [
    "## Softmax"
   ]
  },
  {
   "cell_type": "code",
   "execution_count": 91,
   "id": "b9109201-3886-4d8b-8fa8-1519f6b7d6f6",
   "metadata": {},
   "outputs": [],
   "source": [
    "def softmax(X):\n",
    "    return (np.exp(X)) / (np.sum(np.exp(X)))"
   ]
  },
  {
   "cell_type": "markdown",
   "id": "368ad0d4-ea75-4014-ac38-27aaffde52d8",
   "metadata": {},
   "source": [
    "## Activation function"
   ]
  },
  {
   "cell_type": "code",
   "execution_count": 92,
   "id": "fab912d0-eadf-4a1a-ac23-bfaa9ed5f5e2",
   "metadata": {},
   "outputs": [],
   "source": [
    "def activation(A_prev, W, b, active):\n",
    "    \"\"\"\n",
    "    activation - sigmoid/relu/softmax\n",
    "    \"\"\"\n",
    "    \n",
    "    if active == 'sigmoid':\n",
    "        Z = linear(A_prev, W, b)\n",
    "        A = sigmoid(Z)\n",
    "    elif active == 'relu':\n",
    "        Z = linear(A_prev, W, b)\n",
    "        A = relu(Z)\n",
    "    elif active == 'softmax':\n",
    "        Z = linear(A_prev, W, b)\n",
    "        A = softmax(Z)\n",
    "        \n",
    "    return A, Z"
   ]
  },
  {
   "cell_type": "markdown",
   "id": "0819e1b9-278c-408d-bbe6-2abfba6b427d",
   "metadata": {},
   "source": [
    "## L model forward"
   ]
  },
  {
   "cell_type": "code",
   "execution_count": 93,
   "id": "2240fd83-3f3a-4811-b961-087df512973b",
   "metadata": {},
   "outputs": [],
   "source": [
    "def L_model_forward(X, W, b):\n",
    "    A = X\n",
    "    L = len(b)\n",
    "    caches = {}\n",
    "    \n",
    "    caches['A0'] = A\n",
    "    \n",
    "    for i in range(1, L):\n",
    "        A_prev = A\n",
    "        \n",
    "        A, Z = activation(A_prev, W['W' + str(i)], b['b' + str(i)], 'relu')\n",
    "        caches['A' + str(i)] = A\n",
    "        caches['Z' + str(i)] = Z\n",
    "        \n",
    "    AL, ZL = activation(A, W['W' + str(L)], b['b' + str(L)], 'softmax')\n",
    "    caches['A' + str(L)] = AL\n",
    "    caches['Z' + str(L)] = ZL\n",
    "    \n",
    "    return (AL, caches)"
   ]
  },
  {
   "cell_type": "markdown",
   "id": "e1bcf669-1f5d-42f3-a401-7ef1bc445a8b",
   "metadata": {},
   "source": [
    "## Train"
   ]
  },
  {
   "cell_type": "code",
   "execution_count": 169,
   "id": "1dcbf689-134d-4595-89b5-ac79fc5a302b",
   "metadata": {
    "tags": []
   },
   "outputs": [
    {
     "name": "stdout",
     "output_type": "stream",
     "text": [
      "====enoch == 0====\n",
      "====enoch == 10====\n",
      "====enoch == 20====\n",
      "====enoch == 30====\n",
      "====enoch == 40====\n"
     ]
    }
   ],
   "source": [
    "n = X_train.shape[1]\n",
    "m = X_train.shape[0]\n",
    "alpha = 0.5\n",
    "\n",
    "parameters = inistial_parameters(n, [100, 10])\n",
    "W = parameters['W']\n",
    "b = parameters['b']\n",
    "\n",
    "# AL, caches = L_model_forward(X_train, W, b)\n",
    "\n",
    "cost_train = []\n",
    "cost_test = []\n",
    "\n",
    "def backpropagation():\n",
    "    with tf.GradientTape(persistent=True) as g:\n",
    "    \n",
    "        g.watch(W['W1'])\n",
    "        g.watch(b['b1'])\n",
    "        g.watch(W['W2'])\n",
    "        g.watch(b['b2'])\n",
    "\n",
    "        L1 = tf.experimental.numpy.dot(X_train, W['W1']) + b['b1']\n",
    "        A1 = tf.math.maximum(L1, 0) # ReLU\n",
    "\n",
    "        LL = tf.experimental.numpy.dot(A1, W['W2']) + b['b2']\n",
    "        AL = (tf.experimental.numpy.exp(LL)) / (tf.experimental.numpy.sum(tf.experimental.numpy.exp(LL))) # softmax\n",
    "\n",
    "        J = - tf.experimental.numpy.sum(y_train * tf.experimental.numpy.log(AL), axis=0, keepdims=True) / m\n",
    "        \n",
    "        cost_train.append(np.sum(J.numpy()) / n)\n",
    "    \n",
    "    \n",
    "    dJ_W1 = g.gradient(J, W['W1'])\n",
    "    dJ_b1 = g.gradient(J, b['b1'])\n",
    "    dJ_W2 = g.gradient(J, W['W2'])\n",
    "    dJ_b2 = g.gradient(J, b['b2'])\n",
    "    \n",
    "    W['W1'] = W['W1'] - alpha * dJ_W1\n",
    "    b['b1'] = b['b1'] - alpha * dJ_b1\n",
    "    W['W2'] = W['W2'] - alpha * dJ_W2\n",
    "    b['b2'] = b['b2'] - alpha * dJ_b2\n",
    "    \n",
    "    AL_test, _ = L_model_forward(X_test, W, b)\n",
    "    m_test = AL_test.shape[0]\n",
    "    J_test = - tf.experimental.numpy.sum(y_test * tf.experimental.numpy.log(AL_test), axis=0, keepdims=True) / m_test\n",
    "    cost_test.append(np.sum(J_test.numpy()) / n)\n",
    "\n",
    "for i in range(50):\n",
    "    backpropagation()\n",
    "    if i % 10 == 0:\n",
    "        print('====enoch == {enoch}===='.format(enoch=i))"
   ]
  },
  {
   "cell_type": "code",
   "execution_count": 177,
   "id": "a2e96db6-42cc-47d6-bea3-3680eadcff72",
   "metadata": {},
   "outputs": [
    {
     "data": {
      "image/png": "[encoded data removed]",
      "text/plain": [
       "<Figure size 432x288 with 1 Axes>"
      ]
     },
     "metadata": {
      "needs_background": "light"
     },
     "output_type": "display_data"
    }
   ],
   "source": [
    "import matplotlib.pyplot as plt\n",
    "\n",
    "plt.plot(cost_train[::], label=\"Train Data\")\n",
    "plt.plot(cost_test[::], label=\"Validation Data\")\n",
    "# print(np.max(current_percentage))\n",
    "# plt.plot(current_percentage[:], label=\"Current Test\")\n",
    "plt.ylabel('cost')\n",
    "plt.xlabel('epochs')\n",
    "plt.legend()\n",
    "plt.show()"
   ]
  },
  {
   "cell_type": "code",
   "execution_count": 181,
   "id": "cfcb3550-6dff-4569-8203-9906b78f66ef",
   "metadata": {},
   "outputs": [
    {
     "name": "stdout",
     "output_type": "stream",
     "text": [
      "[0.02654321 0.04096287 0.15396172 0.0090794  0.08552318 0.01419958\n",
      " 0.60320746 0.02811866 0.01770079 0.02070313]\n",
      "6\n"
     ]
    },
    {
     "data": {
      "image/png": "[encoded data removed]",
      "text/plain": [
       "<Figure size 432x288 with 1 Axes>"
      ]
     },
     "metadata": {
      "needs_background": "light"
     },
     "output_type": "display_data"
    }
   ],
   "source": [
    "## Test\n",
    "index = 22\n",
    "single_label = np.where(y_test[index] == 1)[0]\n",
    "single_Image = X_test[index].numpy()\n",
    "single_Image_r = single_Image.reshape((28, 28))\n",
    "test, _ = L_model_forward(single_Image, W, b)\n",
    "print(test)\n",
    "print(np.argmax(test))\n",
    "plt.title('Label is {label}'.format(label=single_label))\n",
    "plt.imshow(single_Image_r, cmap='gray')\n",
    "plt.show()"
   ]
  },
  {
   "cell_type": "code",
   "execution_count": null,
   "id": "602a26e0-d703-4314-9810-fd4a1b32060d",
   "metadata": {},
   "outputs": [],
   "source": []
  }
 ],
 "metadata": {
  "kernelspec": {
   "display_name": "Python 3",
   "language": "python",
   "name": "python3"
  },
  "language_info": {
   "codemirror_mode": {
    "name": "ipython",
    "version": 3
   },
   "file_extension": ".py",
   "mimetype": "text/x-python",
   "name": "python",
   "nbconvert_exporter": "python",
   "pygments_lexer": "ipython3",
   "version": "3.9.4"
  }
 },
 "nbformat": 4,
 "nbformat_minor": 5
}
