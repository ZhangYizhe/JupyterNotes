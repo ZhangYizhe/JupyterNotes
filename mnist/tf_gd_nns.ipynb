{
  "nbformat": 4,
  "nbformat_minor": 5,
  "metadata": {
    "kernelspec": {
      "display_name": "Python 3",
      "language": "python",
      "name": "python3"
    },
    "language_info": {
      "codemirror_mode": {
        "name": "ipython",
        "version": 3
      },
      "file_extension": ".py",
      "mimetype": "text/x-python",
      "name": "python",
      "nbconvert_exporter": "python",
      "pygments_lexer": "ipython3",
      "version": "3.9.4"
    },
    "colab": {
      "name": "tf_gd_nns.ipynb",
      "provenance": []
    },
    "accelerator": "GPU"
  },
  "cells": [
    {
      "cell_type": "markdown",
      "metadata": {
        "id": "dcc4fa9b-02f4-4276-9dec-5c538a6755f3"
      },
      "source": [
        "# MNIST Gradient Descent NNs"
      ],
      "id": "dcc4fa9b-02f4-4276-9dec-5c538a6755f3"
    },
    {
      "cell_type": "markdown",
      "metadata": {
        "id": "d4279c47-67c3-4b12-bf23-cba17acd2bb6"
      },
      "source": [
        "## Load Data"
      ],
      "id": "d4279c47-67c3-4b12-bf23-cba17acd2bb6"
    },
    {
      "cell_type": "code",
      "metadata": {
        "id": "2b949369-014e-4217-b001-abd9a22d74e6",
        "colab": {
          "base_uri": "https://localhost:8080/"
        },
        "outputId": "d1dbbd1e-9d8a-4fc1-df85-15b2850fef8b"
      },
      "source": [
        "import numpy as np\n",
        "import pandas as pd\n",
        "import tensorflow as tf\n",
        "\n",
        "np.set_printoptions(suppress=True)\n",
        "np.seterr(divide = 'ignore') \n",
        "\n",
        "(X_train, y_train), (X_test, y_test) = tf.keras.datasets.mnist.load_data()\n",
        "assert X_train.shape == (60000, 28, 28)\n",
        "assert X_test.shape == (10000, 28, 28)\n",
        "assert y_train.shape == (60000,)\n",
        "assert y_test.shape == (10000,)\n",
        "\n",
        "# normalisation\n",
        "X_train = X_train / 255\n",
        "X_test = X_test / 255\n",
        "\n",
        "def createY(y):\n",
        "    Y = np.zeros(10)\n",
        "    Y[y] = 1\n",
        "    return Y\n",
        "\n",
        "# reshape\n",
        "X_train = X_train.reshape(60000, 28 ** 2)\n",
        "X_test = X_test.reshape(10000, 28 ** 2)\n",
        "y_train = np.array([createY(y) for y in y_train])\n",
        "y_test =np.array([createY(y) for y in y_test])\n",
        "\n",
        "# tensorflow\n",
        "X_train = tf.constant(X_train, dtype=tf.float64)\n",
        "X_test = tf.constant(X_test, dtype=tf.float64)\n",
        "y_train = tf.constant(y_train, dtype=tf.float64)\n",
        "y_test = tf.constant(y_test, dtype=tf.float64)"
      ],
      "id": "2b949369-014e-4217-b001-abd9a22d74e6",
      "execution_count": 2,
      "outputs": [
        {
          "output_type": "stream",
          "text": [
            "Downloading data from https://storage.googleapis.com/tensorflow/tf-keras-datasets/mnist.npz\n",
            "11493376/11490434 [==============================] - 0s 0us/step\n"
          ],
          "name": "stdout"
        }
      ]
    },
    {
      "cell_type": "markdown",
      "metadata": {
        "id": "10a0bcad-3b88-4f4b-9dc6-6466cd582c2c"
      },
      "source": [
        "## Initialize HyperParameters"
      ],
      "id": "10a0bcad-3b88-4f4b-9dc6-6466cd582c2c"
    },
    {
      "cell_type": "code",
      "metadata": {
        "id": "5e852a80-bb2a-4a28-b098-4bc74d639995"
      },
      "source": [
        "def inistial_parameters(n, dims):\n",
        "    \n",
        "    W = {}\n",
        "    B = {}\n",
        "    \n",
        "    for i in range(len(dims)):\n",
        "        dim = dims[i]\n",
        "        if i == 0:\n",
        "            w =  np.random.rand(n, dim) * 1e-3 #* (np.sqrt(2 / dim))\n",
        "            W['W' + str(i + 1)] = tf.constant(w)\n",
        "            b = np.zeros((1, dim))\n",
        "            B['b' + str(i + 1)] = tf.constant(b)\n",
        "        else:\n",
        "            w = np.random.rand(dims[i-1], dim) * 1e-3 #* (np.sqrt(2 / dim))\n",
        "            W['W' + str(i + 1)] = tf.constant(w)\n",
        "            b = np.zeros((1, dim))\n",
        "            B['b' + str(i + 1)] = tf.constant(b)\n",
        "            \n",
        "    return {\n",
        "        'W' : W,\n",
        "        'b' : B\n",
        "    }"
      ],
      "id": "5e852a80-bb2a-4a28-b098-4bc74d639995",
      "execution_count": 99,
      "outputs": []
    },
    {
      "cell_type": "markdown",
      "metadata": {
        "id": "055801a3-ee6f-47cb-b55e-23acaeea2844"
      },
      "source": [
        "## Linear Regression"
      ],
      "id": "055801a3-ee6f-47cb-b55e-23acaeea2844"
    },
    {
      "cell_type": "code",
      "metadata": {
        "id": "cafd6ea0-1e3a-4d0e-a1dc-4336b5749ad0"
      },
      "source": [
        "def linear(X, W, b):\n",
        "    return np.dot(X, W) + b"
      ],
      "id": "cafd6ea0-1e3a-4d0e-a1dc-4336b5749ad0",
      "execution_count": 4,
      "outputs": []
    },
    {
      "cell_type": "markdown",
      "metadata": {
        "id": "404e661c-d419-4943-968a-ad7c08b592fb"
      },
      "source": [
        "## ReLU"
      ],
      "id": "404e661c-d419-4943-968a-ad7c08b592fb"
    },
    {
      "cell_type": "code",
      "metadata": {
        "id": "914c3811-2ef8-49ec-86aa-c66c557e3dff"
      },
      "source": [
        "def relu(X):\n",
        "    return np.maximum(X, 0)"
      ],
      "id": "914c3811-2ef8-49ec-86aa-c66c557e3dff",
      "execution_count": 5,
      "outputs": []
    },
    {
      "cell_type": "markdown",
      "metadata": {
        "id": "7c6b0999-7d53-4d33-99ab-cdf1d9d93ae7"
      },
      "source": [
        "## Softmax"
      ],
      "id": "7c6b0999-7d53-4d33-99ab-cdf1d9d93ae7"
    },
    {
      "cell_type": "code",
      "metadata": {
        "id": "b9109201-3886-4d8b-8fa8-1519f6b7d6f6"
      },
      "source": [
        "def softmax(X):\n",
        "    return np.exp(X) / (np.sum(np.exp(X), axis=1, keepdims=True)) "
      ],
      "id": "b9109201-3886-4d8b-8fa8-1519f6b7d6f6",
      "execution_count": 117,
      "outputs": []
    },
    {
      "cell_type": "markdown",
      "metadata": {
        "id": "368ad0d4-ea75-4014-ac38-27aaffde52d8"
      },
      "source": [
        "## Activation function"
      ],
      "id": "368ad0d4-ea75-4014-ac38-27aaffde52d8"
    },
    {
      "cell_type": "code",
      "metadata": {
        "id": "fab912d0-eadf-4a1a-ac23-bfaa9ed5f5e2"
      },
      "source": [
        "def activation(A_prev, W, b, active):\n",
        "    \"\"\"\n",
        "    activation - sigmoid/relu/softmax\n",
        "    \"\"\"\n",
        "    \n",
        "    if active == 'sigmoid':\n",
        "        Z = linear(A_prev, W, b)\n",
        "        A = sigmoid(Z)\n",
        "    elif active == 'relu':\n",
        "        Z = linear(A_prev, W, b)\n",
        "        A = relu(Z)\n",
        "    elif active == 'softmax':\n",
        "        Z = linear(A_prev, W, b)\n",
        "        A = softmax(Z)\n",
        "        \n",
        "    return A, Z"
      ],
      "id": "fab912d0-eadf-4a1a-ac23-bfaa9ed5f5e2",
      "execution_count": 118,
      "outputs": []
    },
    {
      "cell_type": "markdown",
      "metadata": {
        "id": "0819e1b9-278c-408d-bbe6-2abfba6b427d"
      },
      "source": [
        "## L model forward"
      ],
      "id": "0819e1b9-278c-408d-bbe6-2abfba6b427d"
    },
    {
      "cell_type": "code",
      "metadata": {
        "id": "2240fd83-3f3a-4811-b961-087df512973b"
      },
      "source": [
        "def L_model_forward(X, W, b):\n",
        "    A = X\n",
        "    L = len(b)\n",
        "    # caches = {}\n",
        "    \n",
        "    # caches['A0'] = A\n",
        "    \n",
        "    for i in range(1, L):\n",
        "        A_prev = A\n",
        "        \n",
        "        A, Z = activation(A_prev, W['W' + str(i)], b['b' + str(i)], 'relu')\n",
        "        # caches['A' + str(i)] = A\n",
        "        # caches['Z' + str(i)] = Z\n",
        "        \n",
        "    AL, ZL = activation(A, W['W' + str(L)], b['b' + str(L)], 'softmax')\n",
        "    # caches['A' + str(L)] = AL\n",
        "    # caches['Z' + str(L)] = ZL\n",
        "    \n",
        "    return AL"
      ],
      "id": "2240fd83-3f3a-4811-b961-087df512973b",
      "execution_count": 133,
      "outputs": []
    },
    {
      "cell_type": "markdown",
      "metadata": {
        "id": "45f5f06e-6630-441f-8812-3a9a8b52b7d1"
      },
      "source": [
        "## CrossEntropy"
      ],
      "id": "45f5f06e-6630-441f-8812-3a9a8b52b7d1"
    },
    {
      "cell_type": "code",
      "metadata": {
        "id": "0fdb9eb2-d97b-4381-bee9-928bcc3d2a65"
      },
      "source": [
        "def crossEntropy(haty, Y):\n",
        "    m = haty.shape[0]\n",
        "\n",
        "    ce = np.sum(Y * np.log(haty))\n",
        "\n",
        "    return - ce / m\n"
      ],
      "id": "0fdb9eb2-d97b-4381-bee9-928bcc3d2a65",
      "execution_count": 47,
      "outputs": []
    },
    {
      "cell_type": "markdown",
      "metadata": {
        "id": "e1bcf669-1f5d-42f3-a401-7ef1bc445a8b"
      },
      "source": [
        "## Train"
      ],
      "id": "e1bcf669-1f5d-42f3-a401-7ef1bc445a8b"
    },
    {
      "cell_type": "code",
      "metadata": {
        "id": "Pi_kVJAGb9-K"
      },
      "source": [
        "def SGDRange(m, setpsize):\n",
        "  sum = m\n",
        "  setpsize = setpsize\n",
        "\n",
        "  rangeArr = []\n",
        "\n",
        "  for i in range(0, (sum // setpsize) * setpsize, setpsize):\n",
        "    rangeArr.append([i, i + setpsize])\n",
        "    \n",
        "  if sum % setpsize != 0:\n",
        "    lastone = sum // setpsize * setpsize\n",
        "    rangeArr.append([lastone, lastone + sum % setpsize])\n",
        "  return rangeArr\n",
        "\n",
        "# debug\n",
        "# rangeArr = SGDRange(124, 50)\n",
        "# print(rangeArr)"
      ],
      "id": "Pi_kVJAGb9-K",
      "execution_count": 10,
      "outputs": []
    },
    {
      "cell_type": "code",
      "metadata": {
        "tags": [],
        "colab": {
          "base_uri": "https://localhost:8080/"
        },
        "id": "1dcbf689-134d-4595-89b5-ac79fc5a302b",
        "outputId": "19111f7f-f6bc-4a73-ffa7-7517171485a0"
      },
      "source": [
        "n = X_train.shape[1]\n",
        "alpha = 0.1\n",
        "\n",
        "dims = [512, 10]\n",
        "L = len(dims)\n",
        "\n",
        "parameters = inistial_parameters(n, dims)\n",
        "W = parameters['W']\n",
        "b = parameters['b']\n",
        "\n",
        "# AL, caches = L_model_forward(X_train, W, b)\n",
        "\n",
        "cost_train = []\n",
        "cost_test = []\n",
        "\n",
        "def backpropagation(X, y):\n",
        "    m = X.shape[0]\n",
        "\n",
        "    with tf.GradientTape(persistent=True) as g:\n",
        "        \n",
        "        for i in range(1, L + 1):\n",
        "            g.watch(W['W' + str(i)])\n",
        "            g.watch(b['b' + str(i)])\n",
        "\n",
        "        # ReLU\n",
        "        A_previous = X\n",
        "        for i in range(1, L):\n",
        "            L_hidden = tf.experimental.numpy.dot(A_previous, W['W' + str(i)]) + b['b' + str(i)]\n",
        "            A_previous = tf.math.maximum(L_hidden, 0) \n",
        "\n",
        "        # softmax\n",
        "        LL = tf.experimental.numpy.dot(A_previous, W['W' + str(L)]) + b['b' + str(L)]\n",
        "        AL = (tf.experimental.numpy.exp(LL)) / (tf.experimental.numpy.sum(tf.experimental.numpy.exp(LL), axis=1, keepdims=True)) \n",
        "\n",
        "        # cost function\n",
        "        J = - tf.experimental.numpy.sum(y * tf.experimental.numpy.log(AL)) / m\n",
        "    \n",
        "    for i in range(1, L + 1):\n",
        "        \n",
        "        dJ_W = g.gradient(J, W['W' + str(i)])\n",
        "        dJ_b = g.gradient(J, b['b' + str(i)])\n",
        "\n",
        "        W['W' + str(i)] = W['W' + str(i)] - alpha * dJ_W\n",
        "        b['b' + str(i)] = b['b' + str(i)] - alpha * dJ_b\n",
        "\n",
        "iteration = 40\n",
        "for i in range(iteration):\n",
        "\n",
        "  rangeArr = SGDRange(X_train.shape[0], 512)\n",
        "  for index in rangeArr:\n",
        "    backpropagation(X_train[index[0]:index[1]], y_train[index[0]:index[1]])\n",
        "\n",
        "  cost_train.append(crossEntropy(L_model_forward(X_train, W, b), y_train))\n",
        "  cost_test.append(crossEntropy(L_model_forward(X_test, W, b), y_test))\n",
        "\n",
        "  if i % 5 == 0 or i == iteration - 1:\n",
        "    print('====enoch == {enoch}===='.format(enoch=i))\n",
        "    print('cost_train: {cost_train}'.format(cost_train=cost_train[i]))\n",
        "    print('cost_test: {cost_test}'.format(cost_test=cost_test[i]))\n",
        "\n"
      ],
      "id": "1dcbf689-134d-4595-89b5-ac79fc5a302b",
      "execution_count": 155,
      "outputs": [
        {
          "output_type": "stream",
          "text": [
            "====enoch == 0====\n",
            "cost_train: 1.8548113138501496\n",
            "cost_test: 1.8487181353236364\n",
            "====enoch == 5====\n",
            "cost_train: 0.33314830552861474\n",
            "cost_test: 0.3207902396756074\n",
            "====enoch == 10====\n",
            "cost_train: 0.2608547719958258\n",
            "cost_test: 0.2539351984361\n",
            "====enoch == 15====\n",
            "cost_train: 0.21919503580246602\n",
            "cost_test: 0.21618257274610883\n",
            "====enoch == 20====\n",
            "cost_train: 0.1874554712797584\n",
            "cost_test: 0.1877229193072557\n",
            "====enoch == 25====\n",
            "cost_train: 0.1622951713946909\n",
            "cost_test: 0.16558925983414707\n",
            "====enoch == 30====\n",
            "cost_train: 0.14209353176100312\n",
            "cost_test: 0.14837629471554883\n",
            "====enoch == 35====\n",
            "cost_train: 0.12583190484241596\n",
            "cost_test: 0.13502552254786715\n",
            "====enoch == 39====\n",
            "cost_train: 0.11489892558275143\n",
            "cost_test: 0.12632355923072014\n"
          ],
          "name": "stdout"
        }
      ]
    },
    {
      "cell_type": "code",
      "metadata": {
        "colab": {
          "base_uri": "https://localhost:8080/",
          "height": 279
        },
        "id": "a2e96db6-42cc-47d6-bea3-3680eadcff72",
        "outputId": "f25d558d-e3fb-48d8-c052-8b28454fae4e"
      },
      "source": [
        "import matplotlib.pyplot as plt\n",
        "\n",
        "plt.plot(cost_train[3:], label=\"Train Data\")\n",
        "plt.plot(cost_test[3:], label=\"Validation Data\")\n",
        "# print(np.max(current_percentage))\n",
        "# plt.plot(current_percentage[:], label=\"Current Test\")\n",
        "plt.ylabel('cost')\n",
        "plt.xlabel('epochs')\n",
        "plt.legend()\n",
        "plt.show()"
      ],
      "id": "a2e96db6-42cc-47d6-bea3-3680eadcff72",
      "execution_count": 165,
      "outputs": [
        {
          "output_type": "display_data",
          "data": {
            "image/png": "[encoded data removed]",
            "text/plain": [
              "<Figure size 432x288 with 1 Axes>"
            ]
          },
          "metadata": {
            "tags": [],
            "needs_background": "light"
          }
        }
      ]
    },
    {
      "cell_type": "markdown",
      "metadata": {
        "id": "cf940ea8-8210-49ba-b055-1e0b8b31e426"
      },
      "source": [
        "## get correct percentage"
      ],
      "id": "cf940ea8-8210-49ba-b055-1e0b8b31e426"
    },
    {
      "cell_type": "code",
      "metadata": {
        "colab": {
          "base_uri": "https://localhost:8080/"
        },
        "id": "92906d1e-923f-482b-a253-b46930f1e792",
        "outputId": "ee4e2459-04bf-40f7-e214-d698b39bf893"
      },
      "source": [
        "def getCorrectPercentage(X, y):\n",
        "  m = len(X)\n",
        "  hatys = L_model_forward(X, W, b)\n",
        "  hatys = np.array([createY(np.argmax(y)) for y in hatys])\n",
        "  corrent_num = np.sum(y * hatys)\n",
        "  return corrent_num / m\n",
        "\n",
        "print(getCorrectPercentage(X_train, y_train))\n",
        "print(getCorrectPercentage(X_test, y_test))"
      ],
      "id": "92906d1e-923f-482b-a253-b46930f1e792",
      "execution_count": 164,
      "outputs": [
        {
          "output_type": "stream",
          "text": [
            "0.96775\n",
            "0.9634\n"
          ],
          "name": "stdout"
        }
      ]
    },
    {
      "cell_type": "code",
      "metadata": {
        "colab": {
          "base_uri": "https://localhost:8080/",
          "height": 332
        },
        "id": "cfcb3550-6dff-4569-8203-9906b78f66ef",
        "outputId": "46370275-107f-49a4-b6a4-d41e6b5eee2b"
      },
      "source": [
        "## Test\n",
        "index = 1\n",
        "single_label = np.where(y_test[index] == 1)[0]\n",
        "single_Image = X_test[index].numpy()\n",
        "single_Image_r = single_Image.reshape((28, 28))\n",
        "test = L_model_forward(single_Image, W, b)\n",
        "print(test)\n",
        "print(np.argmax(test))\n",
        "plt.title('Label is {label}'.format(label=single_label))\n",
        "plt.imshow(single_Image_r, cmap='gray')\n",
        "plt.show()"
      ],
      "id": "cfcb3550-6dff-4569-8203-9906b78f66ef",
      "execution_count": 166,
      "outputs": [
        {
          "output_type": "stream",
          "text": [
            "[[0.00073256 0.00001257 0.98909534 0.00980678 0.         0.00014338\n",
            "  0.00013979 0.         0.00006959 0.        ]]\n",
            "2\n"
          ],
          "name": "stdout"
        },
        {
          "output_type": "display_data",
          "data": {
            "image/png": "[encoded data removed]",
            "text/plain": [
              "<Figure size 432x288 with 1 Axes>"
            ]
          },
          "metadata": {
            "tags": [],
            "needs_background": "light"
          }
        }
      ]
    },
    {
      "cell_type": "code",
      "metadata": {
        "id": "602a26e0-d703-4314-9810-fd4a1b32060d"
      },
      "source": [
        "test_data = pd.read_csv('/content/test.csv')\n",
        "test_data.describe()"
      ],
      "id": "602a26e0-d703-4314-9810-fd4a1b32060d",
      "execution_count": null,
      "outputs": []
    },
    {
      "cell_type": "code",
      "metadata": {
        "id": "0b98732a-a149-4baf-886c-455d29cdea2e"
      },
      "source": [
        "hatys = []\n",
        "for single_Image in test_data.values:\n",
        "    haty, _ = L_model_forward(single_Image, W, b)\n",
        "    hatys.append(np.argmax(haty))\n",
        "    \n",
        "hatys = pd.DataFrame(zip(range(1, len(hatys) + 1), hatys), columns=['ImageId', 'Label'])"
      ],
      "id": "0b98732a-a149-4baf-886c-455d29cdea2e",
      "execution_count": null,
      "outputs": []
    },
    {
      "cell_type": "code",
      "metadata": {
        "id": "c9a956eb-dd4e-43b9-8e66-99bb864597c6"
      },
      "source": [
        "hatys.to_csv('submission.csv', index=False)"
      ],
      "id": "c9a956eb-dd4e-43b9-8e66-99bb864597c6",
      "execution_count": null,
      "outputs": []
    },
    {
      "cell_type": "code",
      "metadata": {
        "id": "5ca43bdd-64ca-4685-b1ac-8d85b330ee28"
      },
      "source": [
        "import pickle\n",
        "\n",
        "# save pickle\n",
        "filename = 'model.pkl'\n",
        "model = {'W': W, 'b': b}\n",
        "pickle.dump( model, open( filename, \"wb\" ) )"
      ],
      "id": "5ca43bdd-64ca-4685-b1ac-8d85b330ee28",
      "execution_count": 171,
      "outputs": []
    },
    {
      "cell_type": "code",
      "metadata": {
        "id": "iJdDTBYxtDtW",
        "colab": {
          "base_uri": "https://localhost:8080/"
        },
        "outputId": "da8c2d8c-41f2-459f-c9f9-7fc2ef20ad86"
      },
      "source": [
        "# load pickle\n",
        "model = pickle.load( open( filename, \"rb\" ) )\n",
        "print(model)"
      ],
      "id": "iJdDTBYxtDtW",
      "execution_count": 172,
      "outputs": [
        {
          "output_type": "stream",
          "text": [
            "{'W': {'W1': <tf.Tensor: shape=(784, 512), dtype=float64, numpy=\n",
            "array([[0.00007052, 0.00031088, 0.00046427, ..., 0.00020095, 0.00058982,\n",
            "        0.00037155],\n",
            "       [0.00094162, 0.00033412, 0.00005369, ..., 0.00084005, 0.00024343,\n",
            "        0.00028632],\n",
            "       [0.00011479, 0.00013361, 0.0006291 , ..., 0.00056153, 0.00045227,\n",
            "        0.00046649],\n",
            "       ...,\n",
            "       [0.0005287 , 0.00067129, 0.00099096, ..., 0.00049941, 0.00044009,\n",
            "        0.00030906],\n",
            "       [0.0005068 , 0.00011449, 0.0006989 , ..., 0.00050274, 0.0009818 ,\n",
            "        0.00004772],\n",
            "       [0.00081491, 0.00044808, 0.00084113, ..., 0.0002476 , 0.00015903,\n",
            "        0.00040266]])>, 'W2': <tf.Tensor: shape=(512, 10), dtype=float64, numpy=\n",
            "array([[ 0.16104558,  0.02714529, -0.25999882, ...,  0.03548292,\n",
            "        -0.12990298,  0.07023398],\n",
            "       [ 0.04636511, -0.18710089,  0.06092795, ...,  0.27540427,\n",
            "        -0.11042503,  0.21095396],\n",
            "       [-0.01902534, -0.06840108,  0.12026054, ...,  0.01187856,\n",
            "        -0.03279985, -0.02698136],\n",
            "       ...,\n",
            "       [ 0.03841543, -0.09259964,  0.07256114, ..., -0.0590224 ,\n",
            "         0.08736382, -0.06364327],\n",
            "       [ 0.10985451,  0.04289352,  0.16510415, ...,  0.07779522,\n",
            "        -0.15326947,  0.03792634],\n",
            "       [ 0.0096341 , -0.04367259,  0.03844992, ..., -0.05772432,\n",
            "         0.02202097, -0.09854786]])>}, 'b': {'b1': <tf.Tensor: shape=(1, 512), dtype=float64, numpy=\n",
            "array([[-0.01541467,  0.03474093,  0.00225827, -0.00029424, -0.03542366,\n",
            "        -0.02189227, -0.00343024,  0.11395856,  0.0070769 ,  0.05406232,\n",
            "        -0.01458298, -0.03361662,  0.0586803 ,  0.02326423,  0.02858255,\n",
            "         0.00877378,  0.05295895, -0.02399912, -0.03433164, -0.05881414,\n",
            "        -0.03798634, -0.01230235,  0.00719413,  0.00926672,  0.06809729,\n",
            "        -0.03407859, -0.0192373 , -0.0404983 ,  0.03457088,  0.00290298,\n",
            "        -0.04096011,  0.00936366, -0.02883355,  0.00232939,  0.0351175 ,\n",
            "        -0.01153822,  0.02911258, -0.04705475, -0.00604515,  0.01300426,\n",
            "        -0.03280504,  0.00325407, -0.04377168,  0.02211689, -0.03300749,\n",
            "         0.01607271,  0.00125835, -0.01939669, -0.00146052, -0.0406691 ,\n",
            "        -0.02725751, -0.00968261,  0.04175689,  0.00550013, -0.01819872,\n",
            "         0.0048346 , -0.00657117, -0.01023723,  0.00406278, -0.02635707,\n",
            "        -0.01482854, -0.05011115, -0.01798418, -0.01603951, -0.00225563,\n",
            "        -0.00432207,  0.00809614, -0.02419883, -0.00546013, -0.02034593,\n",
            "        -0.02362233, -0.01511459,  0.02815489, -0.00116675, -0.04235176,\n",
            "        -0.01837729,  0.02020327, -0.05993177, -0.00942071,  0.02309124,\n",
            "        -0.03160858, -0.00680301,  0.04896615,  0.01937736,  0.03301153,\n",
            "        -0.03782301, -0.00070149, -0.00051043, -0.01152046,  0.06186334,\n",
            "         0.0039596 , -0.02306387,  0.032006  ,  0.03723937, -0.01124746,\n",
            "         0.01696471, -0.01419828,  0.03402014,  0.00037254, -0.01815996,\n",
            "         0.0944074 ,  0.00032734,  0.0210917 ,  0.00284439,  0.05299443,\n",
            "         0.0011427 , -0.01589187,  0.00855993, -0.00492239, -0.02485035,\n",
            "        -0.06240061,  0.00493025, -0.01860864,  0.01247429,  0.00709269,\n",
            "        -0.0313522 ,  0.01372634, -0.04458946,  0.02522359, -0.01509112,\n",
            "        -0.00414397, -0.00404417, -0.03010319, -0.00113437,  0.09311946,\n",
            "         0.01132355, -0.07293015, -0.00452431,  0.00209225, -0.01494349,\n",
            "        -0.00267865, -0.03157631,  0.00612435, -0.00247459, -0.02153615,\n",
            "         0.0369485 ,  0.13437836, -0.03012873, -0.02590827,  0.01999512,\n",
            "         0.06102889, -0.01071624,  0.0144188 ,  0.09608717,  0.02831638,\n",
            "        -0.05835572, -0.00127677,  0.0302834 , -0.04233793, -0.01067013,\n",
            "        -0.07602768, -0.0063816 , -0.01143224,  0.01190619,  0.00402032,\n",
            "        -0.04563781,  0.0153822 ,  0.0112024 , -0.0077886 , -0.04032117,\n",
            "         0.00763885, -0.00038565,  0.05334011, -0.00753667,  0.00582024,\n",
            "        -0.01398696,  0.00903615, -0.00972466,  0.03193686,  0.01721475,\n",
            "        -0.02969465, -0.02096592,  0.00413082, -0.00917069,  0.01354928,\n",
            "         0.00460195,  0.01964407,  0.02300885, -0.05360334, -0.00641009,\n",
            "         0.05217051,  0.00532246,  0.0142378 ,  0.00424539,  0.01528874,\n",
            "        -0.0297097 ,  0.01893192,  0.03407964,  0.03515542, -0.04747602,\n",
            "        -0.0280343 ,  0.00393071, -0.00218909, -0.02196198, -0.01310222,\n",
            "        -0.05861821,  0.00404618, -0.00185986, -0.03763532, -0.02459543,\n",
            "         0.03738376, -0.01233062, -0.05213864,  0.02254033, -0.00738546,\n",
            "        -0.00734323, -0.01811223, -0.04329979, -0.02218639,  0.01903354,\n",
            "         0.02527716, -0.00368184,  0.00271482,  0.03630605, -0.01504605,\n",
            "        -0.01816539, -0.03007325,  0.0095832 , -0.0220854 , -0.01035781,\n",
            "         0.07388576, -0.02470476,  0.01685707, -0.03710267,  0.05679558,\n",
            "         0.05377575,  0.01034576, -0.00429123, -0.01671408,  0.08525512,\n",
            "         0.00241773,  0.00290876,  0.02309238, -0.03022406, -0.00816876,\n",
            "         0.01806475, -0.01581427, -0.00678293, -0.00777241,  0.01164932,\n",
            "        -0.03390661,  0.03724666, -0.03143264, -0.00868351,  0.00022068,\n",
            "         0.11493564,  0.0469767 , -0.01604756,  0.00928893, -0.03412816,\n",
            "        -0.01893772, -0.00451354, -0.01468947, -0.02688995, -0.02101507,\n",
            "        -0.00313689,  0.05857866, -0.03141014,  0.03289162, -0.05103004,\n",
            "        -0.01896357,  0.00938218, -0.01077993, -0.04615924, -0.03832944,\n",
            "        -0.06387129,  0.00732427, -0.00738946, -0.00240001, -0.01733091,\n",
            "        -0.06159385,  0.0044123 ,  0.02243488,  0.01691399, -0.00825072,\n",
            "        -0.02516016,  0.00264741, -0.01047282,  0.01207401, -0.00965298,\n",
            "        -0.0033298 ,  0.02767948,  0.03847943, -0.01179172, -0.02285075,\n",
            "        -0.00973246, -0.00624336,  0.02111841, -0.01136184,  0.01118473,\n",
            "        -0.00537896,  0.01028424, -0.03936638,  0.01787887, -0.00472623,\n",
            "        -0.0019991 , -0.04312729,  0.00141384, -0.01024886,  0.00695518,\n",
            "         0.00410076,  0.04973696, -0.04652977,  0.04770716,  0.02544845,\n",
            "         0.01356203, -0.00066546, -0.0182172 ,  0.04153947, -0.02346009,\n",
            "        -0.04526455, -0.00495671, -0.04084093, -0.00010711,  0.04466532,\n",
            "         0.02096322, -0.05633139, -0.01984406, -0.01461708, -0.01177652,\n",
            "        -0.00616381, -0.03376083, -0.03041656,  0.04702328, -0.00506908,\n",
            "        -0.04288298, -0.01505963, -0.00246289,  0.03316112,  0.00514176,\n",
            "         0.0092079 , -0.05310576,  0.00152323, -0.02389835, -0.02410752,\n",
            "        -0.05514197, -0.05533849, -0.01380482,  0.06343167,  0.02697863,\n",
            "        -0.00431948, -0.03482703, -0.00267845,  0.04791636,  0.02669914,\n",
            "         0.05153126, -0.00032918,  0.00663437,  0.01068727,  0.01906743,\n",
            "         0.01227182,  0.01236404, -0.00498688, -0.01261676, -0.0122139 ,\n",
            "         0.00431113,  0.01511122, -0.01656097,  0.00894151, -0.00998094,\n",
            "        -0.00667916, -0.01148385,  0.05551467, -0.02256132,  0.01556865,\n",
            "         0.006576  , -0.02286708,  0.00235846, -0.05068031,  0.0048396 ,\n",
            "        -0.05553449,  0.04501251, -0.02196969, -0.00603177,  0.00277738,\n",
            "         0.03328039, -0.02116844,  0.0401328 , -0.00752427, -0.01347833,\n",
            "         0.11470756, -0.05914463, -0.02199367, -0.00364162, -0.02258304,\n",
            "        -0.06016997, -0.06009259, -0.02375917, -0.01740887, -0.01428102,\n",
            "        -0.0245273 ,  0.03000815, -0.02194319, -0.05739151,  0.04374689,\n",
            "         0.00278497, -0.06069091, -0.008201  ,  0.06031463,  0.00480927,\n",
            "         0.01549717,  0.01134061, -0.02427451, -0.03675608, -0.00718345,\n",
            "         0.00233163,  0.03482664, -0.04824461,  0.10887549, -0.00883275,\n",
            "         0.01600049, -0.0411613 , -0.02996169, -0.04714421,  0.0081051 ,\n",
            "        -0.00868134, -0.02218579, -0.00872826, -0.04505174,  0.03668971,\n",
            "        -0.00836844, -0.03242466, -0.03969418, -0.04623727, -0.01098777,\n",
            "        -0.04715603, -0.0198741 , -0.01805785, -0.02433832, -0.02558227,\n",
            "        -0.02440572, -0.01333951,  0.05917139, -0.0078806 ,  0.01310826,\n",
            "        -0.03645557, -0.01629412, -0.01783424,  0.01202566,  0.04410357,\n",
            "        -0.00479129,  0.01933058, -0.00355554,  0.0911061 ,  0.00940848,\n",
            "         0.01119446,  0.09424324,  0.01137334, -0.03440418,  0.02284861,\n",
            "        -0.00356738, -0.0545447 ,  0.0098145 , -0.05348456, -0.03582174,\n",
            "        -0.01352034, -0.03618968, -0.00292585,  0.00920962, -0.04385532,\n",
            "         0.04422916, -0.02480633,  0.01502612, -0.04952967,  0.01864852,\n",
            "         0.02437612, -0.02520417, -0.03835997, -0.0645479 , -0.02720986,\n",
            "        -0.03696289, -0.0054543 , -0.01980227,  0.00376308, -0.00515264,\n",
            "         0.01709449, -0.00809236,  0.0118279 ,  0.07756323, -0.04383794,\n",
            "        -0.05036539,  0.01344231,  0.02787867,  0.02264181,  0.05236225,\n",
            "        -0.03247437,  0.02101796,  0.01591634,  0.04751004,  0.00707541,\n",
            "         0.04096144,  0.03921407, -0.00708444,  0.01586389,  0.06102563,\n",
            "         0.06054919, -0.00148679,  0.00526719, -0.00394603,  0.01032404,\n",
            "        -0.01483493,  0.01337442, -0.02465351, -0.04663975,  0.03335815,\n",
            "         0.00116474,  0.05497569, -0.01844192, -0.00724203, -0.0209975 ,\n",
            "        -0.04488913,  0.01230747]])>, 'b2': <tf.Tensor: shape=(1, 10), dtype=float64, numpy=\n",
            "array([[-1.04713115,  1.23954039, -0.18685288, -0.33468488,  0.225538  ,\n",
            "         0.28882652, -0.24510858,  0.41365674, -0.49902164,  0.14523748]])>}}\n"
          ],
          "name": "stdout"
        }
      ]
    },
    {
      "cell_type": "code",
      "metadata": {
        "id": "t3zsExwxLNIc"
      },
      "source": [
        ""
      ],
      "id": "t3zsExwxLNIc",
      "execution_count": null,
      "outputs": []
    }
  ]
}