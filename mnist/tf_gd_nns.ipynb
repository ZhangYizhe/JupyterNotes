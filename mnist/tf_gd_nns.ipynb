{
  "nbformat": 4,
  "nbformat_minor": 5,
  "metadata": {
    "kernelspec": {
      "display_name": "Python 3",
      "language": "python",
      "name": "python3"
    },
    "language_info": {
      "codemirror_mode": {
        "name": "ipython",
        "version": 3
      },
      "file_extension": ".py",
      "mimetype": "text/x-python",
      "name": "python",
      "nbconvert_exporter": "python",
      "pygments_lexer": "ipython3",
      "version": "3.9.4"
    },
    "colab": {
      "name": "tf_gd_nns.ipynb",
      "provenance": []
    },
    "accelerator": "GPU"
  },
  "cells": [
    {
      "cell_type": "markdown",
      "metadata": {
        "id": "dcc4fa9b-02f4-4276-9dec-5c538a6755f3"
      },
      "source": [
        "# MNIST Gradient Descent NNs"
      ],
      "id": "dcc4fa9b-02f4-4276-9dec-5c538a6755f3"
    },
    {
      "cell_type": "markdown",
      "metadata": {
        "id": "d4279c47-67c3-4b12-bf23-cba17acd2bb6"
      },
      "source": [
        "## Load Data"
      ],
      "id": "d4279c47-67c3-4b12-bf23-cba17acd2bb6"
    },
    {
      "cell_type": "code",
      "metadata": {
        "id": "2b949369-014e-4217-b001-abd9a22d74e6"
      },
      "source": [
        "import numpy as np\n",
        "import pandas as pd\n",
        "import tensorflow as tf\n",
        "\n",
        "np.set_printoptions(suppress=True)\n",
        "np.seterr(divide = 'ignore') \n",
        "\n",
        "(X_train, y_train), (X_test, y_test) = tf.keras.datasets.mnist.load_data()\n",
        "assert X_train.shape == (60000, 28, 28)\n",
        "assert X_test.shape == (10000, 28, 28)\n",
        "assert y_train.shape == (60000,)\n",
        "assert y_test.shape == (10000,)\n",
        "\n",
        "# normalisation\n",
        "X_train = X_train / 255\n",
        "X_test = X_test / 255\n",
        "\n",
        "def createY(y):\n",
        "    Y = np.zeros(10)\n",
        "    Y[y] = 1\n",
        "    return Y\n",
        "\n",
        "# reshape\n",
        "X_train = X_train.reshape(60000, 28 ** 2)\n",
        "X_test = X_test.reshape(10000, 28 ** 2)\n",
        "y_train = np.array([createY(y) for y in y_train])\n",
        "y_test =np.array([createY(y) for y in y_test])\n",
        "\n",
        "# tensorflow\n",
        "X_train = tf.constant(X_train, dtype=tf.float64)\n",
        "X_test = tf.constant(X_test, dtype=tf.float64)\n",
        "y_train = tf.constant(y_train, dtype=tf.float64)\n",
        "y_test = tf.constant(y_test, dtype=tf.float64)"
      ],
      "id": "2b949369-014e-4217-b001-abd9a22d74e6",
      "execution_count": 1,
      "outputs": []
    },
    {
      "cell_type": "markdown",
      "metadata": {
        "id": "10a0bcad-3b88-4f4b-9dc6-6466cd582c2c"
      },
      "source": [
        "## Initialize HyperParameters"
      ],
      "id": "10a0bcad-3b88-4f4b-9dc6-6466cd582c2c"
    },
    {
      "cell_type": "code",
      "metadata": {
        "id": "5e852a80-bb2a-4a28-b098-4bc74d639995"
      },
      "source": [
        "def inistial_parameters(n, dims):\n",
        "    \n",
        "    W = {}\n",
        "    B = {}\n",
        "    \n",
        "    for i in range(len(dims)):\n",
        "        dim = dims[i]\n",
        "        if i == 0:\n",
        "            w =  np.random.randn(n, dim) * (np.sqrt(2 / dim))\n",
        "            W['W' + str(i + 1)] = tf.constant(w)\n",
        "            b = np.zeros((1, dim))\n",
        "            B['b' + str(i + 1)] = tf.constant(b)\n",
        "        else:\n",
        "            w = np.random.randn(dims[i-1], dim) * (np.sqrt(2 / dim))\n",
        "            W['W' + str(i + 1)] = tf.constant(w)\n",
        "            b = np.zeros((1, dim))\n",
        "            B['b' + str(i + 1)] = tf.constant(b)\n",
        "            \n",
        "    return {\n",
        "        'W' : W,\n",
        "        'b' : B\n",
        "    }"
      ],
      "id": "5e852a80-bb2a-4a28-b098-4bc74d639995",
      "execution_count": 2,
      "outputs": []
    },
    {
      "cell_type": "markdown",
      "metadata": {
        "id": "055801a3-ee6f-47cb-b55e-23acaeea2844"
      },
      "source": [
        "## Linear Regression"
      ],
      "id": "055801a3-ee6f-47cb-b55e-23acaeea2844"
    },
    {
      "cell_type": "code",
      "metadata": {
        "id": "cafd6ea0-1e3a-4d0e-a1dc-4336b5749ad0"
      },
      "source": [
        "def linear(X, W, b):\n",
        "    return np.dot(X, W) + b"
      ],
      "id": "cafd6ea0-1e3a-4d0e-a1dc-4336b5749ad0",
      "execution_count": 3,
      "outputs": []
    },
    {
      "cell_type": "markdown",
      "metadata": {
        "id": "404e661c-d419-4943-968a-ad7c08b592fb"
      },
      "source": [
        "## ReLU"
      ],
      "id": "404e661c-d419-4943-968a-ad7c08b592fb"
    },
    {
      "cell_type": "code",
      "metadata": {
        "id": "914c3811-2ef8-49ec-86aa-c66c557e3dff"
      },
      "source": [
        "def relu(X):\n",
        "    return np.maximum(X, 0)"
      ],
      "id": "914c3811-2ef8-49ec-86aa-c66c557e3dff",
      "execution_count": 4,
      "outputs": []
    },
    {
      "cell_type": "markdown",
      "metadata": {
        "id": "7c6b0999-7d53-4d33-99ab-cdf1d9d93ae7"
      },
      "source": [
        "## Softmax"
      ],
      "id": "7c6b0999-7d53-4d33-99ab-cdf1d9d93ae7"
    },
    {
      "cell_type": "code",
      "metadata": {
        "id": "b9109201-3886-4d8b-8fa8-1519f6b7d6f6"
      },
      "source": [
        "def softmax(X):\n",
        "    return (np.exp(X)) / (np.sum(np.exp(X)))"
      ],
      "id": "b9109201-3886-4d8b-8fa8-1519f6b7d6f6",
      "execution_count": 5,
      "outputs": []
    },
    {
      "cell_type": "markdown",
      "metadata": {
        "id": "368ad0d4-ea75-4014-ac38-27aaffde52d8"
      },
      "source": [
        "## Activation function"
      ],
      "id": "368ad0d4-ea75-4014-ac38-27aaffde52d8"
    },
    {
      "cell_type": "code",
      "metadata": {
        "id": "fab912d0-eadf-4a1a-ac23-bfaa9ed5f5e2"
      },
      "source": [
        "def activation(A_prev, W, b, active):\n",
        "    \"\"\"\n",
        "    activation - sigmoid/relu/softmax\n",
        "    \"\"\"\n",
        "    \n",
        "    if active == 'sigmoid':\n",
        "        Z = linear(A_prev, W, b)\n",
        "        A = sigmoid(Z)\n",
        "    elif active == 'relu':\n",
        "        Z = linear(A_prev, W, b)\n",
        "        A = relu(Z)\n",
        "    elif active == 'softmax':\n",
        "        Z = linear(A_prev, W, b)\n",
        "        A = softmax(Z)\n",
        "        \n",
        "    return A, Z"
      ],
      "id": "fab912d0-eadf-4a1a-ac23-bfaa9ed5f5e2",
      "execution_count": 6,
      "outputs": []
    },
    {
      "cell_type": "markdown",
      "metadata": {
        "id": "0819e1b9-278c-408d-bbe6-2abfba6b427d"
      },
      "source": [
        "## L model forward"
      ],
      "id": "0819e1b9-278c-408d-bbe6-2abfba6b427d"
    },
    {
      "cell_type": "code",
      "metadata": {
        "id": "2240fd83-3f3a-4811-b961-087df512973b"
      },
      "source": [
        "def L_model_forward(X, W, b):\n",
        "    A = X\n",
        "    L = len(b)\n",
        "    caches = {}\n",
        "    \n",
        "    caches['A0'] = A\n",
        "    \n",
        "    for i in range(1, L):\n",
        "        A_prev = A\n",
        "        \n",
        "        A, Z = activation(A_prev, W['W' + str(i)], b['b' + str(i)], 'relu')\n",
        "        caches['A' + str(i)] = A\n",
        "        caches['Z' + str(i)] = Z\n",
        "        \n",
        "    AL, ZL = activation(A, W['W' + str(L)], b['b' + str(L)], 'softmax')\n",
        "    caches['A' + str(L)] = AL\n",
        "    caches['Z' + str(L)] = ZL\n",
        "    \n",
        "    return (AL, caches)"
      ],
      "id": "2240fd83-3f3a-4811-b961-087df512973b",
      "execution_count": 7,
      "outputs": []
    },
    {
      "cell_type": "markdown",
      "metadata": {
        "id": "45f5f06e-6630-441f-8812-3a9a8b52b7d1"
      },
      "source": [
        "## CrossEntropy"
      ],
      "id": "45f5f06e-6630-441f-8812-3a9a8b52b7d1"
    },
    {
      "cell_type": "code",
      "metadata": {
        "id": "0fdb9eb2-d97b-4381-bee9-928bcc3d2a65"
      },
      "source": [
        "def crossEntropy(haty, Y):\n",
        "    m = haty.shape[0]\n",
        "\n",
        "    return - (1 / m) * np.sum(np.sum(Y * np.log(haty), axis=1, keepdims=True)) \n"
      ],
      "id": "0fdb9eb2-d97b-4381-bee9-928bcc3d2a65",
      "execution_count": 8,
      "outputs": []
    },
    {
      "cell_type": "markdown",
      "metadata": {
        "id": "e1bcf669-1f5d-42f3-a401-7ef1bc445a8b"
      },
      "source": [
        "## Train"
      ],
      "id": "e1bcf669-1f5d-42f3-a401-7ef1bc445a8b"
    },
    {
      "cell_type": "code",
      "metadata": {
        "id": "Pi_kVJAGb9-K",
        "outputId": "43ad97da-2bd7-4eae-f461-fc82e9a30135",
        "colab": {
          "base_uri": "https://localhost:8080/"
        }
      },
      "source": [
        "def SGDRange(m, setpsize):\n",
        "  sum = 121\n",
        "  setpsize = 5\n",
        "\n",
        "  rangeArr = []\n",
        "\n",
        "  for i in range(0, (sum // setpsize) * setpsize, setpsize):\n",
        "    print()\n",
        "    rangeArr.appened([i, i + setpsize])\n",
        "\n",
        "  if sum // setpsize != 0:\n",
        "    lastone = sum // setpsize * setpsize\n",
        "    rangeArr.appened([lastone, lastone + sum % setpsize])\n",
        "\n",
        "# debug\n"
      ],
      "id": "Pi_kVJAGb9-K",
      "execution_count": 20,
      "outputs": [
        {
          "output_type": "stream",
          "text": [
            "0 5\n",
            "5 10\n",
            "10 15\n",
            "15 20\n",
            "20 25\n",
            "25 30\n",
            "30 35\n",
            "35 40\n",
            "40 45\n",
            "45 50\n",
            "50 55\n",
            "55 60\n",
            "60 65\n",
            "65 70\n",
            "70 75\n",
            "75 80\n",
            "80 85\n",
            "85 90\n",
            "90 95\n",
            "95 100\n",
            "100 105\n",
            "105 110\n",
            "110 115\n",
            "115 120\n",
            "120 121\n"
          ],
          "name": "stdout"
        }
      ]
    },
    {
      "cell_type": "code",
      "metadata": {
        "tags": [],
        "id": "1dcbf689-134d-4595-89b5-ac79fc5a302b",
        "outputId": "ddd8474f-9602-4161-965b-f8a129ed05e9",
        "colab": {
          "base_uri": "https://localhost:8080/"
        }
      },
      "source": [
        "n = X_train.shape[1]\n",
        "alpha = 1e-2\n",
        "\n",
        "dims = [200, 200, 10]\n",
        "L = len(dims)\n",
        "\n",
        "parameters = inistial_parameters(n, dims)\n",
        "W = parameters['W']\n",
        "b = parameters['b']\n",
        "\n",
        "# AL, caches = L_model_forward(X_train, W, b)\n",
        "\n",
        "cost_train = []\n",
        "cost_test = []\n",
        "\n",
        "def backpropagation(X, y):\n",
        "    m = X.shape[0]\n",
        "\n",
        "    with tf.GradientTape(persistent=True) as g:\n",
        "        \n",
        "        for i in range(1, L + 1):\n",
        "            g.watch(W['W' + str(i)])\n",
        "            g.watch(b['b' + str(i)])\n",
        "\n",
        "        # ReLU\n",
        "        A_previous = X\n",
        "        for i in range(1, L):\n",
        "            L_hidden = tf.experimental.numpy.dot(A_previous, W['W' + str(i)]) + b['b' + str(i)]\n",
        "            A_previous = tf.math.maximum(L_hidden, 0) \n",
        "\n",
        "        # softmax\n",
        "        LL = tf.experimental.numpy.dot(A_previous, W['W' + str(L)]) + b['b' + str(L)]\n",
        "        AL = (tf.experimental.numpy.exp(LL)) / (tf.experimental.numpy.sum(tf.experimental.numpy.exp(LL))) \n",
        "\n",
        "        # cost function\n",
        "        J = - tf.experimental.numpy.sum(y * tf.experimental.numpy.log(AL), axis=0, keepdims=True) / m\n",
        "\n",
        "    cost_train.append(crossEntropy(AL, y))\n",
        "        \n",
        "    AL_test, _ = L_model_forward(X_test, W, b)\n",
        "    m_test = AL_test.shape[0]\n",
        "    cost_test.append(crossEntropy(AL_test, y_test))\n",
        "    \n",
        "    for i in range(1, L + 1):\n",
        "        \n",
        "        dJ_W = g.gradient(J, W['W' + str(i)])\n",
        "        dJ_b = g.gradient(J, b['b' + str(i)])\n",
        "\n",
        "        W['W' + str(i)] = W['W' + str(i)] - alpha * dJ_W\n",
        "        b['b' + str(i)] = b['b' + str(i)] - alpha * dJ_b\n",
        "\n",
        "for i in range(50):\n",
        "    \n",
        "\n",
        "    backpropagation()\n",
        "\n",
        "\n",
        "\n",
        "    if i % 5 == 0:\n",
        "      print('====enoch == {enoch}===='.format(enoch=i))\n",
        "      print('cost_train: {cost_train}'.format(cost_train=cost_train[i]))\n",
        "      print('cost_test: {cost_test}'.format(cost_test=cost_test[i]))\n"
      ],
      "id": "1dcbf689-134d-4595-89b5-ac79fc5a302b",
      "execution_count": 9,
      "outputs": [
        {
          "output_type": "stream",
          "text": [
            "====enoch == 0====\n",
            "cost_train: 24.08548905701495\n",
            "cost_test: 22.451910690381396\n",
            "====enoch == 5====\n",
            "cost_train: 14.011581938613398\n",
            "cost_test: 12.17357230894276\n",
            "====enoch == 10====\n",
            "cost_train: 13.186097650825397\n",
            "cost_test: 11.335108559026466\n",
            "====enoch == 15====\n",
            "cost_train: 12.883898798008163\n",
            "cost_test: 11.033203909317987\n",
            "====enoch == 20====\n",
            "cost_train: 12.718699348908148\n",
            "cost_test: 10.86718419474976\n",
            "====enoch == 25====\n",
            "cost_train: 12.603922804108606\n",
            "cost_test: 10.753701137362185\n",
            "====enoch == 30====\n",
            "cost_train: 12.517602383626187\n",
            "cost_test: 10.669555685729502\n",
            "====enoch == 35====\n",
            "cost_train: 12.449364492846376\n",
            "cost_test: 10.603621560764754\n",
            "====enoch == 40====\n",
            "cost_train: 12.393199564642352\n",
            "cost_test: 10.549755959874101\n",
            "====enoch == 45====\n",
            "cost_train: 12.345706473469779\n",
            "cost_test: 10.504318185812615\n",
            "====enoch == 50====\n",
            "cost_train: 12.304724285316594\n",
            "cost_test: 10.465152499148305\n",
            "====enoch == 55====\n",
            "cost_train: 12.268702004769288\n",
            "cost_test: 10.430909535355893\n",
            "====enoch == 60====\n",
            "cost_train: 12.236787211178322\n",
            "cost_test: 10.400679494648182\n",
            "====enoch == 65====\n",
            "cost_train: 12.208189355991667\n",
            "cost_test: 10.373652674045688\n",
            "====enoch == 70====\n",
            "cost_train: 12.18234293378803\n",
            "cost_test: 10.349358194772003\n",
            "====enoch == 75====\n",
            "cost_train: 12.158727568482878\n",
            "cost_test: 10.327152977082594\n",
            "====enoch == 80====\n",
            "cost_train: 12.137063467389508\n",
            "cost_test: 10.306782063327692\n",
            "====enoch == 85====\n",
            "cost_train: 12.117121621647762\n",
            "cost_test: 10.288022267502011\n",
            "====enoch == 90====\n",
            "cost_train: 12.09863437270678\n",
            "cost_test: 10.270653758625677\n",
            "====enoch == 95====\n",
            "cost_train: 12.081431908841632\n",
            "cost_test: 10.254481768552962\n"
          ],
          "name": "stdout"
        }
      ]
    },
    {
      "cell_type": "code",
      "metadata": {
        "id": "a2e96db6-42cc-47d6-bea3-3680eadcff72",
        "outputId": "1f45361a-2577-496e-c8cf-a8a96b3e53b9",
        "colab": {
          "base_uri": "https://localhost:8080/",
          "height": 279
        }
      },
      "source": [
        "import matplotlib.pyplot as plt\n",
        "\n",
        "plt.plot(cost_train[50:], label=\"Train Data\")\n",
        "plt.plot(cost_test[50:], label=\"Validation Data\")\n",
        "# print(np.max(current_percentage))\n",
        "# plt.plot(current_percentage[:], label=\"Current Test\")\n",
        "plt.ylabel('cost')\n",
        "plt.xlabel('epochs')\n",
        "plt.legend()\n",
        "plt.show()"
      ],
      "id": "a2e96db6-42cc-47d6-bea3-3680eadcff72",
      "execution_count": 43,
      "outputs": [
        {
          "output_type": "display_data",
          "data": {
            "image/png": "[encoded data removed]",
            "text/plain": [
              "<Figure size 432x288 with 1 Axes>"
            ]
          },
          "metadata": {
            "tags": [],
            "needs_background": "light"
          }
        }
      ]
    },
    {
      "cell_type": "markdown",
      "metadata": {
        "id": "cf940ea8-8210-49ba-b055-1e0b8b31e426"
      },
      "source": [
        "## get correct percentage"
      ],
      "id": "cf940ea8-8210-49ba-b055-1e0b8b31e426"
    },
    {
      "cell_type": "code",
      "metadata": {
        "id": "92906d1e-923f-482b-a253-b46930f1e792",
        "outputId": "852de339-a340-416c-e97b-8cc92594b58c",
        "colab": {
          "base_uri": "https://localhost:8080/"
        }
      },
      "source": [
        "def getCorrectPercentage(X, y):\n",
        "  m = len(X)\n",
        "  hatys, _ = L_model_forward(X, W, b)\n",
        "  hatys = np.array([createY(np.argmax(y)) for y in hatys])\n",
        "  corrent_num = np.sum(y * hatys)\n",
        "  return corrent_num / m\n",
        "\n",
        "print(getCorrectPercentage(X_train, y_train))\n",
        "print(getCorrectPercentage(X_test, y_test))"
      ],
      "id": "92906d1e-923f-482b-a253-b46930f1e792",
      "execution_count": 47,
      "outputs": [
        {
          "output_type": "stream",
          "text": [
            "0.8701166666666666\n",
            "0.8742\n"
          ],
          "name": "stdout"
        }
      ]
    },
    {
      "cell_type": "code",
      "metadata": {
        "id": "cfcb3550-6dff-4569-8203-9906b78f66ef",
        "outputId": "9d91a2e5-d9d5-450e-d513-c61c0853b6ba",
        "colab": {
          "base_uri": "https://localhost:8080/",
          "height": 332
        }
      },
      "source": [
        "## Test\n",
        "index = 1\n",
        "single_label = np.where(y_test[index] == 1)[0]\n",
        "single_Image = X_test[index].numpy()\n",
        "single_Image_r = single_Image.reshape((28, 28))\n",
        "test, _ = L_model_forward(single_Image, W, b)\n",
        "print(test)\n",
        "print(np.argmax(test))\n",
        "plt.title('Label is {label}'.format(label=single_label))\n",
        "plt.imshow(single_Image_r, cmap='gray')\n",
        "plt.show()"
      ],
      "id": "cfcb3550-6dff-4569-8203-9906b78f66ef",
      "execution_count": 37,
      "outputs": [
        {
          "output_type": "stream",
          "text": [
            "[[0.1227092  0.0042099  0.40919356 0.20362559 0.00130365 0.08755694\n",
            "  0.02970645 0.00111894 0.13839586 0.00217993]]\n",
            "2\n"
          ],
          "name": "stdout"
        },
        {
          "output_type": "display_data",
          "data": {
            "image/png": "[encoded data removed]",
            "text/plain": [
              "<Figure size 432x288 with 1 Axes>"
            ]
          },
          "metadata": {
            "tags": [],
            "needs_background": "light"
          }
        }
      ]
    },
    {
      "cell_type": "code",
      "metadata": {
        "id": "602a26e0-d703-4314-9810-fd4a1b32060d"
      },
      "source": [
        "test_data = pd.read_csv('test.csv')"
      ],
      "id": "602a26e0-d703-4314-9810-fd4a1b32060d",
      "execution_count": null,
      "outputs": []
    },
    {
      "cell_type": "code",
      "metadata": {
        "id": "0b98732a-a149-4baf-886c-455d29cdea2e",
        "outputId": "8289d0ac-4be1-412e-9120-ee350df8c094"
      },
      "source": [
        "hatys = []\n",
        "for single_Image in test_data.values:\n",
        "    haty, _ = L_model_forward(single_Image, W, b)\n",
        "    hatys.append(np.argmax(haty))\n",
        "    \n",
        "hatys = pd.DataFrame(zip(range(1, len(hatys) + 1), hatys), columns=['ImageId', 'Label'])"
      ],
      "id": "0b98732a-a149-4baf-886c-455d29cdea2e",
      "execution_count": null,
      "outputs": [
        {
          "output_type": "stream",
          "text": [
            "<ipython-input-6-df679a0485eb>:2: RuntimeWarning: overflow encountered in exp\n",
            "  return (np.exp(X)) / (np.sum(np.exp(X)))\n",
            "<ipython-input-6-df679a0485eb>:2: RuntimeWarning: invalid value encountered in true_divide\n",
            "  return (np.exp(X)) / (np.sum(np.exp(X)))\n"
          ],
          "name": "stderr"
        }
      ]
    },
    {
      "cell_type": "code",
      "metadata": {
        "id": "c9a956eb-dd4e-43b9-8e66-99bb864597c6"
      },
      "source": [
        "hatys.to_csv('submission.csv', index=False)"
      ],
      "id": "c9a956eb-dd4e-43b9-8e66-99bb864597c6",
      "execution_count": null,
      "outputs": []
    },
    {
      "cell_type": "code",
      "metadata": {
        "id": "5ca43bdd-64ca-4685-b1ac-8d85b330ee28"
      },
      "source": [
        ""
      ],
      "id": "5ca43bdd-64ca-4685-b1ac-8d85b330ee28",
      "execution_count": null,
      "outputs": []
    }
  ]
}