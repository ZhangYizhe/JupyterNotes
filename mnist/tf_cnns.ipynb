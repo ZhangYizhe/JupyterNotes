{
 "cells": [
  {
   "cell_type": "markdown",
   "id": "36521686-5fb1-484a-b24a-f8e809c17cc8",
   "metadata": {},
   "source": [
    "# Tensorflow CNNs"
   ]
  },
  {
   "cell_type": "code",
   "execution_count": 7,
   "id": "b6b8d94b-eb83-412a-8677-78f32ce77a8c",
   "metadata": {},
   "outputs": [],
   "source": [
    "import numpy as np\n",
    "import pandas as pd\n",
    "import tensorflow as tf\n",
    "\n",
    "np.set_printoptions(suppress=True)\n",
    "\n",
    "(X_train, y_train), (X_test, y_test) = tf.keras.datasets.mnist.load_data()\n",
    "X_train, X_test = X_train / 255.0, X_test / 255.0\n",
    "X_train = X_train.reshape(60000, 28, 28, 1)\n",
    "X_test = X_test.reshape(10000, 28, 28, 1)\n",
    "# assert X_train.shape == (60000, 28, 28)\n",
    "# assert X_test.shape == (10000, 28, 28)\n",
    "# assert y_train.shape == (60000,)\n",
    "# assert y_test.shape == (10000,)"
   ]
  },
  {
   "cell_type": "code",
   "execution_count": 9,
   "id": "972ca9f7-c1c2-49a1-837d-c2a694eb7791",
   "metadata": {},
   "outputs": [],
   "source": [
    "from tensorflow.keras.layers import Dense, Softmax, Conv2D, Flatten, MaxPooling2D\n",
    "from tensorflow.keras import Model\n",
    "\n",
    "# Use tf.data to batch and shuffle the dataset:\n",
    "train_ds = tf.data.Dataset.from_tensor_slices((X_train, y_train)).shuffle(10000).batch(32)\n",
    "\n",
    "test_ds = tf.data.Dataset.from_tensor_slices((X_test, y_test)).batch(32)"
   ]
  },
  {
   "cell_type": "code",
   "execution_count": 15,
   "id": "75fbbee1-6f34-41e4-b42a-f530780381a3",
   "metadata": {},
   "outputs": [
    {
     "name": "stdout",
     "output_type": "stream",
     "text": [
      "Model: \"sequential_3\"\n",
      "_________________________________________________________________\n",
      "Layer (type)                 Output Shape              Param #   \n",
      "=================================================================\n",
      "conv2d_7 (Conv2D)            (None, 24, 24, 6)         156       \n",
      "_________________________________________________________________\n",
      "max_pooling2d_6 (MaxPooling2 (None, 12, 12, 6)         0         \n",
      "_________________________________________________________________\n",
      "conv2d_8 (Conv2D)            (None, 8, 8, 16)          2416      \n",
      "_________________________________________________________________\n",
      "max_pooling2d_7 (MaxPooling2 (None, 4, 4, 16)          0         \n",
      "_________________________________________________________________\n",
      "flatten_3 (Flatten)          (None, 256)               0         \n",
      "_________________________________________________________________\n",
      "dense_9 (Dense)              (None, 120)               30840     \n",
      "_________________________________________________________________\n",
      "dense_10 (Dense)             (None, 84)                10164     \n",
      "_________________________________________________________________\n",
      "dense_11 (Dense)             (None, 10)                850       \n",
      "=================================================================\n",
      "Total params: 44,426\n",
      "Trainable params: 44,426\n",
      "Non-trainable params: 0\n",
      "_________________________________________________________________\n",
      "Epoch 1/6\n",
      "1875/1875 [==============================] - 13s 7ms/step - loss: 0.1904 - categorical_accuracy: 0.0989 - val_loss: 0.0683 - val_categorical_accuracy: 0.1001\n",
      "Epoch 2/6\n",
      "1875/1875 [==============================] - 13s 7ms/step - loss: 0.0658 - categorical_accuracy: 0.0989 - val_loss: 0.0475 - val_categorical_accuracy: 0.0985\n",
      "Epoch 3/6\n",
      "1875/1875 [==============================] - 13s 7ms/step - loss: 0.0473 - categorical_accuracy: 0.0989 - val_loss: 0.0535 - val_categorical_accuracy: 0.0995\n",
      "Epoch 4/6\n",
      "1875/1875 [==============================] - 13s 7ms/step - loss: 0.0389 - categorical_accuracy: 0.0989 - val_loss: 0.0509 - val_categorical_accuracy: 0.0986\n",
      "Epoch 5/6\n",
      "1875/1875 [==============================] - 13s 7ms/step - loss: 0.0308 - categorical_accuracy: 0.0988 - val_loss: 0.0470 - val_categorical_accuracy: 0.0965\n",
      "Epoch 6/6\n",
      "1875/1875 [==============================] - 13s 7ms/step - loss: 0.0246 - categorical_accuracy: 0.0987 - val_loss: 0.0503 - val_categorical_accuracy: 0.0990\n"
     ]
    }
   ],
   "source": [
    "model = tf.keras.models.Sequential([\n",
    "    Conv2D(filters=6, kernel_size=[5, 5], strides=1, padding='valid', input_shape=(28, 28, 1)),\n",
    "    MaxPooling2D(pool_size=2, strides=2, padding='valid'),\n",
    "    Conv2D(filters=16, kernel_size=[5, 5], strides=1, padding='valid'),\n",
    "    MaxPooling2D(pool_size=2, strides=2, padding='valid'),\n",
    "    Flatten(),\n",
    "    Dense(120, activation='relu', input_shape=(784,)),\n",
    "    Dense(84, activation='relu'),\n",
    "    Dense(10, activation='softmax')\n",
    "])\n",
    "\n",
    "model.summary()\n",
    "\n",
    "model.compile(\n",
    "    optimizer=tf.keras.optimizers.Adam(0.001),\n",
    "    loss=tf.keras.losses.SparseCategoricalCrossentropy(),\n",
    "    metrics=[tf.keras.metrics.CategoricalAccuracy()],\n",
    ")\n",
    "\n",
    "model_history = model.fit(\n",
    "    train_ds,\n",
    "    epochs=6,\n",
    "    validation_data=test_ds,\n",
    ")"
   ]
  },
  {
   "cell_type": "code",
   "execution_count": 17,
   "id": "3df62505-7d1a-4e03-9c99-689141b0a109",
   "metadata": {},
   "outputs": [
    {
     "data": {
      "image/png": "[encoded data removed]",
      "text/plain": [
       "<Figure size 432x288 with 1 Axes>"
      ]
     },
     "metadata": {
      "needs_background": "light"
     },
     "output_type": "display_data"
    }
   ],
   "source": [
    "import matplotlib.pyplot as plt\n",
    "\n",
    "plt.plot(model_history.history['loss'], label=\"Train Data\")\n",
    "plt.plot(model_history.history['val_loss'], label=\"Validation Data\")\n",
    "plt.ylabel('cost')\n",
    "plt.xlabel('epochs')\n",
    "plt.legend()\n",
    "plt.show()"
   ]
  },
  {
   "cell_type": "code",
   "execution_count": 29,
   "id": "2a9d5b6d-a716-43c4-b96e-b653b686416c",
   "metadata": {},
   "outputs": [
    {
     "name": "stdout",
     "output_type": "stream",
     "text": [
      "prediction: 9\n"
     ]
    },
    {
     "data": {
      "image/png": "[encoded data removed]",
      "text/plain": [
       "<Figure size 432x288 with 1 Axes>"
      ]
     },
     "metadata": {
      "needs_background": "light"
     },
     "output_type": "display_data"
    }
   ],
   "source": [
    "index = 12\n",
    "\n",
    "image = X_test[index]\n",
    "\n",
    "haty = model.predict(image.reshape(1, 28, 28, 1))\n",
    "\n",
    "print('prediction: {label}'.format(label = np.argmax(haty)))\n",
    "\n",
    "plt.title('Label is {label}'.format(label=y_test[index]))\n",
    "plt.imshow(image.reshape((28, 28)), cmap='gray')\n",
    "plt.show()"
   ]
  },
  {
   "cell_type": "code",
   "execution_count": 40,
   "id": "efd60523-49cb-4218-bdad-963a0ff86def",
   "metadata": {},
   "outputs": [],
   "source": [
    "read_test_data = pd.read_csv('test.csv')"
   ]
  },
  {
   "cell_type": "code",
   "execution_count": 55,
   "id": "850a13a8-f166-43bd-88c7-e903a89d8676",
   "metadata": {},
   "outputs": [],
   "source": [
    "test_data_original = read_test_data / 255\n",
    "test_data = []\n",
    "# test_data.shape\n",
    "\n",
    "for i in test_data_original.index:\n",
    "    test_data.append(test_data_original.iloc[i].values.reshape(28, 28, 1))\n",
    "test_data = np.array(test_data)\n",
    "# test_data.shape\n",
    "# test_data = test_data.reshape(test_data.shape[0], 28, 28, 1)"
   ]
  },
  {
   "cell_type": "code",
   "execution_count": 59,
   "id": "3843b88f-4b2d-4ed0-8dc7-4cebca8eb2ac",
   "metadata": {},
   "outputs": [],
   "source": [
    "hatys = model.predict(test_data)\n",
    "hatys = np.array([np.argmax(y) for y in hatys])"
   ]
  },
  {
   "cell_type": "code",
   "execution_count": 61,
   "id": "e1190f12-5c20-44a9-8540-c44513838b29",
   "metadata": {},
   "outputs": [],
   "source": [
    "hatys = pd.DataFrame(zip(range(1, len(hatys) + 1), hatys), columns=['ImageId', 'Label'])\n",
    "hatys.to_csv('submission.csv', index=False)"
   ]
  },
  {
   "cell_type": "code",
   "execution_count": null,
   "id": "112909fc-59da-4a9a-86a1-029eb49f248b",
   "metadata": {},
   "outputs": [],
   "source": []
  }
 ],
 "metadata": {
  "kernelspec": {
   "display_name": "Python 3",
   "language": "python",
   "name": "python3"
  },
  "language_info": {
   "codemirror_mode": {
    "name": "ipython",
    "version": 3
   },
   "file_extension": ".py",
   "mimetype": "text/x-python",
   "name": "python",
   "nbconvert_exporter": "python",
   "pygments_lexer": "ipython3",
   "version": "3.8.10"
  }
 },
 "nbformat": 4,
 "nbformat_minor": 5
}
