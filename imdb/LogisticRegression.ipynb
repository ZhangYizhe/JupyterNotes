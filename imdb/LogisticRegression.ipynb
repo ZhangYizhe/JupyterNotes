{
 "cells": [
  {
   "cell_type": "markdown",
   "id": "b9b6bf32-1a54-42c3-8e5f-5ac6ca348911",
   "metadata": {},
   "source": [
    "# Logistic regression practice"
   ]
  },
  {
   "cell_type": "markdown",
   "id": "58b02943-5601-46d2-98b7-c1a22b2aba27",
   "metadata": {},
   "source": [
    "## Load data"
   ]
  },
  {
   "cell_type": "code",
   "execution_count": 219,
   "id": "3393f714-092e-4a83-b44d-60bf99fdbacd",
   "metadata": {},
   "outputs": [],
   "source": [
    "import numpy as np\n",
    "import pandas as pd\n",
    "import string"
   ]
  },
  {
   "cell_type": "code",
   "execution_count": 412,
   "id": "41f5907d-002f-4c1b-ac4e-c1351022b8b4",
   "metadata": {},
   "outputs": [],
   "source": [
    "limited_number_train = 11000\n",
    "limited_dict_len = 2000\n",
    "limited_char_count = 1000\n",
    "\n",
    "def processPunctuation(sentence):\n",
    "    sentence = sentence.lower()\n",
    "    sentence = sentence.replace(',', '').replace('?', '').replace('.', '').replace('\\'', '').replace('(', '').replace(')', '').replace('?', '').replace('\\x96', '')\n",
    "    \n",
    "    return sentence"
   ]
  },
  {
   "cell_type": "code",
   "execution_count": 413,
   "id": "5acf0cb7-9d70-48b8-960a-dd0162994dc0",
   "metadata": {},
   "outputs": [],
   "source": [
    "original_data = pd.read_csv('train.csv').sample(frac=1).reset_index(drop=True)[:limited_number_train]\n",
    "# original_test_data = pd.read_csv('test.csv').sample(frac=1).reset_index(drop=True)[:1000]\n",
    "\n",
    "X_train = original_data.sample(frac = 0.8, random_state = 0).reset_index(drop=True)\n",
    "X_dev = original_data.drop(X_train.index).reset_index(drop=True)\n",
    "\n",
    "y_train = X_train.pop('sentiment').to_frame()\n",
    "y_dev = X_dev.pop('sentiment').to_frame()"
   ]
  },
  {
   "cell_type": "markdown",
   "id": "6561055e-436c-4372-8319-ff9446567ec0",
   "metadata": {},
   "source": [
    "## Produce Word Dictionary"
   ]
  },
  {
   "cell_type": "code",
   "execution_count": 414,
   "id": "41147641-bd59-46e1-bead-fa59a59c03a8",
   "metadata": {},
   "outputs": [],
   "source": [
    "wordDict = {}\n",
    "\n",
    "for sentence in X_train.loc[:, 'text']:\n",
    "    sentence = processPunctuation(sentence[:limited_char_count])\n",
    "    sentence = sentence.split()\n",
    "    \n",
    "    for word in sentence:\n",
    "        if word in wordDict:\n",
    "            wordDict[word] += 1\n",
    "        else:\n",
    "            wordDict[word] = 1\n",
    "\n",
    "wordDict = dict(sorted(wordDict.items(), key=lambda item: item[1], reverse = True)[:limited_dict_len])\n",
    "wordDict = dict(zip(wordDict.keys(), range(len(wordDict.keys()))))"
   ]
  },
  {
   "cell_type": "code",
   "execution_count": 415,
   "id": "e5a08f09-90cf-450a-93cb-78156d165465",
   "metadata": {},
   "outputs": [],
   "source": [
    "def word2vec(sentence):\n",
    "    sentence = processPunctuation(sentence)\n",
    "    word2vec = np.zeros(limited_dict_len)\n",
    "    for word in sentence.split():\n",
    "        if word in wordDict:\n",
    "            word2vec[wordDict[word]] = 1\n",
    "    return word2vec #.reshape(1, limited_dict_len)\n",
    "\n",
    "#debug\n",
    "# text = X_train.loc[1, 'text']\n",
    "# print(word2vec(text))"
   ]
  },
  {
   "cell_type": "markdown",
   "id": "1520ff8e-a13a-4cc9-8de1-9e68185f1a67",
   "metadata": {},
   "source": [
    "## Convert sentence"
   ]
  },
  {
   "cell_type": "code",
   "execution_count": 416,
   "id": "99b15f82-f28a-4872-9191-2deea764ccdb",
   "metadata": {},
   "outputs": [
    {
     "name": "stdout",
     "output_type": "stream",
     "text": [
      "(8800, 2000)\n",
      "(2200, 2000)\n"
     ]
    }
   ],
   "source": [
    "X_train_vec = np.array([word2vec(sentence) for sentence in X_train.loc[:, 'text']])\n",
    "X_dev_vec = np.array([word2vec(sentence) for sentence in X_dev.loc[:, 'text']])\n",
    "\n",
    "print(X_train_vec.shape)\n",
    "print(X_dev_vec.shape)"
   ]
  },
  {
   "cell_type": "markdown",
   "id": "d89369a9-4de7-4611-9e8c-341633f7f406",
   "metadata": {},
   "source": [
    "## Initialise Theta and Bias"
   ]
  },
  {
   "cell_type": "code",
   "execution_count": 417,
   "id": "ec159534-bf4e-4c9b-850c-cf78f2939c7e",
   "metadata": {},
   "outputs": [],
   "source": [
    "def initial_parameters(X):\n",
    "    n = X.shape[1]\n",
    "    w = np.random.randn(n, 1) * 1e-2\n",
    "    b = np.random.randn() * 1e-2\n",
    "    return w, b\n",
    "\n",
    "# w, b = initial_parameters(X_train_vec)\n",
    "\n",
    "#debug\n",
    "# temp_w, temp_b = initial_parameters(X_train_vec)\n",
    "# print(temp_w.shape, temp_b)"
   ]
  },
  {
   "cell_type": "markdown",
   "id": "0326c022-db6f-4df7-b6d3-116e7324c66a",
   "metadata": {},
   "source": [
    "## Hypethesis Representation"
   ]
  },
  {
   "cell_type": "code",
   "execution_count": 418,
   "id": "3f7bc4db-c333-40e4-8ed6-3cc112a3e342",
   "metadata": {},
   "outputs": [],
   "source": [
    "def hypethesis(X, w, b):\n",
    "    z = np.dot(X, w) + b\n",
    "    return z"
   ]
  },
  {
   "cell_type": "markdown",
   "id": "5ce32da4-7021-47ad-a0d1-0d0752434fcd",
   "metadata": {},
   "source": [
    "## sigmoid function"
   ]
  },
  {
   "cell_type": "code",
   "execution_count": 419,
   "id": "ea667336-fea1-41d3-aa7b-cc9bf05ef2c1",
   "metadata": {},
   "outputs": [],
   "source": [
    "def sigmoid(z):\n",
    "    yhat = 1 / (1 + np.exp(-z))\n",
    "    return yhat"
   ]
  },
  {
   "cell_type": "markdown",
   "id": "84729b5d-86e2-463d-90ed-35dac4c0c320",
   "metadata": {},
   "source": [
    "## Cost function"
   ]
  },
  {
   "cell_type": "code",
   "execution_count": 420,
   "id": "da207c7b-ae9c-4225-85d0-333f4c195d82",
   "metadata": {},
   "outputs": [],
   "source": [
    "def cost(y, yhat):\n",
    "    m = y.shape[0]\n",
    "    cost = (1 / m) * (np.dot(-y.T, np.log(yhat)) - np.dot((1 - y).T, np.log(1 - yhat)))\n",
    "    return cost.item()"
   ]
  },
  {
   "cell_type": "code",
   "execution_count": 421,
   "id": "9526fdd2-ad56-4434-bb04-8d4294071fca",
   "metadata": {},
   "outputs": [],
   "source": [
    "# z = hypethesis(X_train_vec, w, b)\n",
    "# yhat = sigmoid(z)\n",
    "# J = cost(y_train, yhat)"
   ]
  },
  {
   "cell_type": "markdown",
   "id": "4fa4a9e9-aaa9-47fb-9309-44a511372833",
   "metadata": {},
   "source": [
    "## Gradient descent"
   ]
  },
  {
   "cell_type": "code",
   "execution_count": 422,
   "id": "2170332a-0ec6-4061-853a-1d2b9c2b2940",
   "metadata": {},
   "outputs": [],
   "source": [
    "def logisticRegression(X_train, X_dev, y_train, y_dev, alpha, epochs):\n",
    "\n",
    "    # add zero x=1\n",
    "    X_train = np.insert(X_train, 0, np.ones(range(len(X_train), 1)), axis=1)\n",
    "    X_dev = np.insert(X_dev, 0, np.ones(range(len(X_dev), 1)), axis=1)\n",
    "    \n",
    "    temp_X_train = X_train.copy()\n",
    "    temp_X_train[:][0] = 0\n",
    "    \n",
    "    m = X_train.shape[0]\n",
    "    w, b = initial_parameters(X_train)\n",
    "    J_trains = []\n",
    "    J_devs = []\n",
    "    \n",
    "    for epoch in range(epochs):\n",
    "        z_train = hypethesis(X_train, w, b)\n",
    "        z_dev = hypethesis(X_dev, w, b)\n",
    "        \n",
    "        yhat_train = sigmoid(z_train)\n",
    "        yhat_dev = sigmoid(z_dev)\n",
    "        \n",
    "        J_trains.append(cost(y_train, yhat_train))\n",
    "        J_devs.append(cost(y_dev, yhat_dev))\n",
    "        \n",
    "        w = w - (alpha / m) * np.dot(temp_X_train.T, (yhat_train - y_train))\n",
    "    \n",
    "    return w, b, J_trains, J_devs"
   ]
  },
  {
   "cell_type": "markdown",
   "id": "e25934e2-67a9-4013-bed5-2d9c2e2537c4",
   "metadata": {},
   "source": [
    "## Start Training"
   ]
  },
  {
   "cell_type": "code",
   "execution_count": 423,
   "id": "a5e137d3-cb43-4ea5-bfa6-c1d94605bdd5",
   "metadata": {},
   "outputs": [],
   "source": [
    "w, b, J_trains, J_devs = logisticRegression(X_train_vec, X_dev_vec, y_train, y_dev, 1e-1, 8000)"
   ]
  },
  {
   "cell_type": "markdown",
   "id": "dbf125f5-756b-43fd-a6e5-0751f25dcad5",
   "metadata": {},
   "source": [
    "## Plot Cost vaules"
   ]
  },
  {
   "cell_type": "code",
   "execution_count": 424,
   "id": "5b3fb15f-1c46-49b9-8e09-c4e400e753cd",
   "metadata": {},
   "outputs": [
    {
     "data": {
      "image/png": "[encoded data removed]",
      "text/plain": [
       "<Figure size 432x288 with 1 Axes>"
      ]
     },
     "metadata": {
      "needs_background": "light"
     },
     "output_type": "display_data"
    },
    {
     "name": "stdout",
     "output_type": "stream",
     "text": [
      "0.2041880979651937\n",
      "0.23596991478102794\n"
     ]
    }
   ],
   "source": [
    "import matplotlib.pyplot as plt\n",
    "\n",
    "plt.plot(J_trains[1000:], label=\"Train Data\")\n",
    "plt.plot(J_devs[1000:], label=\"Validation Data\")\n",
    "plt.ylabel('cost')\n",
    "plt.xlabel('epochs')\n",
    "plt.legend()\n",
    "plt.show()\n",
    "\n",
    "print(J_trains[-1])\n",
    "print(J_devs[-1])"
   ]
  },
  {
   "cell_type": "code",
   "execution_count": null,
   "id": "7876afef-af21-4ade-b8bc-9b4bd2583bf5",
   "metadata": {},
   "outputs": [],
   "source": []
  }
 ],
 "metadata": {
  "kernelspec": {
   "display_name": "Python 3",
   "language": "python",
   "name": "python3"
  },
  "language_info": {
   "codemirror_mode": {
    "name": "ipython",
    "version": 3
   },
   "file_extension": ".py",
   "mimetype": "text/x-python",
   "name": "python",
   "nbconvert_exporter": "python",
   "pygments_lexer": "ipython3",
   "version": "3.9.4"
  }
 },
 "nbformat": 4,
 "nbformat_minor": 5
}
